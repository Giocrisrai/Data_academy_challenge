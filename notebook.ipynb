{
 "cells": [
  {
   "cell_type": "markdown",
   "source": "# Análisis de los 25 retailers más grandes de Estados Unidos",
   "metadata": {
    "formattedRanges": [],
    "cell_id": "1df879a0-53cd-4031-a50b-2c2fe17304a4",
    "tags": [],
    "is_collapsed": false,
    "deepnote_cell_type": "text-cell-h1"
   }
  },
  {
   "cell_type": "code",
   "metadata": {
    "tags": [],
    "cell_id": "3347a937-91c3-4305-b06c-213bb2f3bcaf",
    "deepnote_to_be_reexecuted": false,
    "source_hash": "842fca63",
    "execution_start": 1645626698685,
    "execution_millis": 4630,
    "deepnote_cell_type": "code",
    "deepnote_cell_height": 153
   },
   "source": "# Importar librerías aquí\nimport pandas as pd\nimport numpy as np\nimport matplotlib.pyplot as plt\nimport seaborn as sns",
   "execution_count": null,
   "outputs": []
  },
  {
   "cell_type": "code",
   "metadata": {
    "cell_id": "081fdaf2-888a-4a54-9495-467464cfc400",
    "tags": [],
    "deepnote_to_be_reexecuted": false,
    "source_hash": "c8da6879",
    "execution_start": 1645626703328,
    "execution_millis": 72,
    "deepnote_cell_type": "code",
    "deepnote_cell_height": 431
   },
   "source": "# Importar datos aquí\ndf = pd.read_csv('largest_us_retailes.csv')\ndf.head()",
   "execution_count": null,
   "outputs": [
    {
     "output_type": "execute_result",
     "execution_count": 2,
     "data": {
      "application/vnd.deepnote.dataframe.v3+json": {
       "column_count": 6,
       "row_count": 5,
       "columns": [
        {
         "name": "Company",
         "dtype": "object",
         "stats": {
          "unique_count": 5,
          "nan_count": 0,
          "categories": [
           {
            "name": "Walmart US",
            "count": 1
           },
           {
            "name": "Kroger",
            "count": 1
           },
           {
            "name": "3 others",
            "count": 3
           }
          ]
         }
        },
        {
         "name": "Sales",
         "dtype": "int64",
         "stats": {
          "unique_count": 5,
          "nan_count": 0,
          "min": "78924",
          "max": "658119",
          "histogram": [
           {
            "bin_start": 78924,
            "bin_end": 136843.5,
            "count": 4
           },
           {
            "bin_start": 136843.5,
            "bin_end": 194763,
            "count": 0
           },
           {
            "bin_start": 194763,
            "bin_end": 252682.5,
            "count": 0
           },
           {
            "bin_start": 252682.5,
            "bin_end": 310602,
            "count": 0
           },
           {
            "bin_start": 310602,
            "bin_end": 368521.5,
            "count": 0
           },
           {
            "bin_start": 368521.5,
            "bin_end": 426441,
            "count": 0
           },
           {
            "bin_start": 426441,
            "bin_end": 484360.5,
            "count": 0
           },
           {
            "bin_start": 484360.5,
            "bin_end": 542280,
            "count": 0
           },
           {
            "bin_start": 542280,
            "bin_end": 600199.5,
            "count": 0
           },
           {
            "bin_start": 600199.5,
            "bin_end": 658119,
            "count": 1
           }
          ]
         }
        },
        {
         "name": "Stores",
         "dtype": "float64",
         "stats": {
          "unique_count": 5,
          "nan_count": 0,
          "min": "495.0",
          "max": "8002.0",
          "histogram": [
           {
            "bin_start": 495,
            "bin_end": 1245.7,
            "count": 1
           },
           {
            "bin_start": 1245.7,
            "bin_end": 1996.4,
            "count": 1
           },
           {
            "bin_start": 1996.4,
            "bin_end": 2747.1000000000004,
            "count": 0
           },
           {
            "bin_start": 2747.1000000000004,
            "bin_end": 3497.8,
            "count": 0
           },
           {
            "bin_start": 3497.8,
            "bin_end": 4248.5,
            "count": 1
           },
           {
            "bin_start": 4248.5,
            "bin_end": 4999.200000000001,
            "count": 1
           },
           {
            "bin_start": 4999.200000000001,
            "bin_end": 5749.900000000001,
            "count": 0
           },
           {
            "bin_start": 5749.900000000001,
            "bin_end": 6500.6,
            "count": 0
           },
           {
            "bin_start": 6500.6,
            "bin_end": 7251.3,
            "count": 0
           },
           {
            "bin_start": 7251.3,
            "bin_end": 8002,
            "count": 1
           }
          ]
         }
        },
        {
         "name": "Sales/Avg. Store",
         "dtype": "float64",
         "stats": {
          "unique_count": 5,
          "nan_count": 0,
          "min": "9.81092672",
          "max": "187.7956204",
          "histogram": [
           {
            "bin_start": 9.81092672,
            "bin_end": 27.609396087999997,
            "count": 1
           },
           {
            "bin_start": 27.609396087999997,
            "bin_end": 45.407865455999996,
            "count": 2
           },
           {
            "bin_start": 45.407865455999996,
            "bin_end": 63.206334823999995,
            "count": 0
           },
           {
            "bin_start": 63.206334823999995,
            "bin_end": 81.004804192,
            "count": 1
           },
           {
            "bin_start": 81.004804192,
            "bin_end": 98.80327356,
            "count": 0
           },
           {
            "bin_start": 98.80327356,
            "bin_end": 116.601742928,
            "count": 0
           },
           {
            "bin_start": 116.601742928,
            "bin_end": 134.400212296,
            "count": 0
           },
           {
            "bin_start": 134.400212296,
            "bin_end": 152.198681664,
            "count": 0
           },
           {
            "bin_start": 152.198681664,
            "bin_end": 169.99715103199998,
            "count": 0
           },
           {
            "bin_start": 169.99715103199998,
            "bin_end": 187.7956204,
            "count": 1
           }
          ]
         }
        },
        {
         "name": "Store Count Growth",
         "dtype": "float64",
         "stats": {
          "unique_count": 5,
          "nan_count": 0,
          "min": "-0.01051069618",
          "max": "0.06681034483",
          "histogram": [
           {
            "bin_start": -0.01051069618,
            "bin_end": -0.0027785920789999983,
            "count": 1
           },
           {
            "bin_start": -0.0027785920789999983,
            "bin_end": 0.004953512022000003,
            "count": 1
           },
           {
            "bin_start": 0.004953512022000003,
            "bin_end": 0.012685616123000005,
            "count": 0
           },
           {
            "bin_start": 0.012685616123000005,
            "bin_end": 0.020417720224000006,
            "count": 1
           },
           {
            "bin_start": 0.020417720224000006,
            "bin_end": 0.028149824325000003,
            "count": 0
           },
           {
            "bin_start": 0.028149824325000003,
            "bin_end": 0.03588192842600001,
            "count": 0
           },
           {
            "bin_start": 0.03588192842600001,
            "bin_end": 0.043614032527,
            "count": 0
           },
           {
            "bin_start": 0.043614032527,
            "bin_end": 0.05134613662800001,
            "count": 0
           },
           {
            "bin_start": 0.05134613662800001,
            "bin_end": 0.059078240729,
            "count": 1
           },
           {
            "bin_start": 0.059078240729,
            "bin_end": 0.06681034483,
            "count": 1
           }
          ]
         }
        },
        {
         "name": "Category",
         "dtype": "object",
         "stats": {
          "unique_count": 5,
          "nan_count": 0,
          "categories": [
           {
            "name": "Supercenters",
            "count": 1
           },
           {
            "name": "Grocery",
            "count": 1
           },
           {
            "name": "3 others",
            "count": 3
           }
          ]
         }
        },
        {
         "name": "_deepnote_index_column",
         "dtype": "int64"
        }
       ],
       "rows": [
        {
         "Company": "Walmart US",
         "Sales": 658119,
         "Stores": 4574,
         "Sales/Avg. Store": 65.64972497,
         "Store Count Growth": 0.01284322409,
         "Category": "Supercenters",
         "_deepnote_index_column": 0
        },
        {
         "Company": "Kroger",
         "Sales": 115037,
         "Stores": 3931,
         "Sales/Avg. Store": 30.03184963,
         "Store Count Growth": 0.05388739946,
         "Category": "Grocery",
         "_deepnote_index_column": 1
        },
        {
         "Company": "Costco",
         "Sales": 90048,
         "Stores": 495,
         "Sales/Avg. Store": 187.7956204,
         "Store Count Growth": 0.06681034483,
         "Category": "Warehouse Club",
         "_deepnote_index_column": 2
        },
        {
         "Company": "Home Depot",
         "Sales": 83976,
         "Stores": 1965,
         "Sales/Avg. Store": 42.73587786,
         "Store Count Growth": 0,
         "Category": "Home Improvement",
         "_deepnote_index_column": 3
        },
        {
         "Company": "Walgreen Boots",
         "Sales": 78924,
         "Stores": 8002,
         "Sales/Avg. Store": 9.81092672,
         "Store Count Growth": -0.01051069618,
         "Category": "Drug Stores",
         "_deepnote_index_column": 4
        }
       ]
      },
      "text/plain": "          Company   Sales  Stores  Sales/Avg. Store  Store Count Growth  \\\n0      Walmart US  658119  4574.0         65.649725            0.012843   \n1          Kroger  115037  3931.0         30.031850            0.053887   \n2          Costco   90048   495.0        187.795620            0.066810   \n3      Home Depot   83976  1965.0         42.735878            0.000000   \n4  Walgreen Boots   78924  8002.0          9.810927           -0.010511   \n\n           Category  \n0      Supercenters  \n1           Grocery  \n2    Warehouse Club  \n3  Home Improvement  \n4       Drug Stores  ",
      "text/html": "<div>\n<style scoped>\n    .dataframe tbody tr th:only-of-type {\n        vertical-align: middle;\n    }\n\n    .dataframe tbody tr th {\n        vertical-align: top;\n    }\n\n    .dataframe thead th {\n        text-align: right;\n    }\n</style>\n<table border=\"1\" class=\"dataframe\">\n  <thead>\n    <tr style=\"text-align: right;\">\n      <th></th>\n      <th>Company</th>\n      <th>Sales</th>\n      <th>Stores</th>\n      <th>Sales/Avg. Store</th>\n      <th>Store Count Growth</th>\n      <th>Category</th>\n    </tr>\n  </thead>\n  <tbody>\n    <tr>\n      <th>0</th>\n      <td>Walmart US</td>\n      <td>658119</td>\n      <td>4574.0</td>\n      <td>65.649725</td>\n      <td>0.012843</td>\n      <td>Supercenters</td>\n    </tr>\n    <tr>\n      <th>1</th>\n      <td>Kroger</td>\n      <td>115037</td>\n      <td>3931.0</td>\n      <td>30.031850</td>\n      <td>0.053887</td>\n      <td>Grocery</td>\n    </tr>\n    <tr>\n      <th>2</th>\n      <td>Costco</td>\n      <td>90048</td>\n      <td>495.0</td>\n      <td>187.795620</td>\n      <td>0.066810</td>\n      <td>Warehouse Club</td>\n    </tr>\n    <tr>\n      <th>3</th>\n      <td>Home Depot</td>\n      <td>83976</td>\n      <td>1965.0</td>\n      <td>42.735878</td>\n      <td>0.000000</td>\n      <td>Home Improvement</td>\n    </tr>\n    <tr>\n      <th>4</th>\n      <td>Walgreen Boots</td>\n      <td>78924</td>\n      <td>8002.0</td>\n      <td>9.810927</td>\n      <td>-0.010511</td>\n      <td>Drug Stores</td>\n    </tr>\n  </tbody>\n</table>\n</div>"
     },
     "metadata": {}
    }
   ]
  },
  {
   "cell_type": "code",
   "metadata": {
    "cell_id": "bdf5d087-2b13-4744-a7b2-84c51fc66838",
    "tags": [],
    "deepnote_to_be_reexecuted": false,
    "source_hash": "567462f1",
    "execution_start": 1645626703520,
    "execution_millis": 20,
    "deepnote_cell_type": "code",
    "deepnote_cell_height": 618
   },
   "source": "df_sorted = df.sort_values('Sales', ascending=0)\ndf_sorted",
   "execution_count": null,
   "outputs": [
    {
     "output_type": "execute_result",
     "execution_count": 3,
     "data": {
      "application/vnd.deepnote.dataframe.v3+json": {
       "column_count": 6,
       "row_count": 25,
       "columns": [
        {
         "name": "Company",
         "dtype": "object",
         "stats": {
          "unique_count": 25,
          "nan_count": 0,
          "categories": [
           {
            "name": "Walmart US",
            "count": 1
           },
           {
            "name": "Kroger",
            "count": 1
           },
           {
            "name": "23 others",
            "count": 23
           }
          ]
         }
        },
        {
         "name": "Sales",
         "dtype": "int64",
         "stats": {
          "unique_count": 25,
          "nan_count": 0,
          "min": "16592",
          "max": "658119",
          "histogram": [
           {
            "bin_start": 16592,
            "bin_end": 80744.7,
            "count": 21
           },
           {
            "bin_start": 80744.7,
            "bin_end": 144897.4,
            "count": 3
           },
           {
            "bin_start": 144897.4,
            "bin_end": 209050.09999999998,
            "count": 0
           },
           {
            "bin_start": 209050.09999999998,
            "bin_end": 273202.8,
            "count": 0
           },
           {
            "bin_start": 273202.8,
            "bin_end": 337355.5,
            "count": 0
           },
           {
            "bin_start": 337355.5,
            "bin_end": 401508.19999999995,
            "count": 0
           },
           {
            "bin_start": 401508.19999999995,
            "bin_end": 465660.89999999997,
            "count": 0
           },
           {
            "bin_start": 465660.89999999997,
            "bin_end": 529813.6,
            "count": 0
           },
           {
            "bin_start": 529813.6,
            "bin_end": 593966.2999999999,
            "count": 0
           },
           {
            "bin_start": 593966.2999999999,
            "bin_end": 658119,
            "count": 1
           }
          ]
         }
        },
        {
         "name": "Stores",
         "dtype": "float64",
         "stats": {
          "unique_count": 23,
          "nan_count": 2,
          "min": "231.0",
          "max": "14250.0",
          "histogram": [
           {
            "bin_start": 231,
            "bin_end": 1632.9,
            "count": 10
           },
           {
            "bin_start": 1632.9,
            "bin_end": 3034.8,
            "count": 6
           },
           {
            "bin_start": 3034.8,
            "bin_end": 4436.700000000001,
            "count": 1
           },
           {
            "bin_start": 4436.700000000001,
            "bin_end": 5838.6,
            "count": 2
           },
           {
            "bin_start": 5838.6,
            "bin_end": 7240.5,
            "count": 0
           },
           {
            "bin_start": 7240.5,
            "bin_end": 8642.400000000001,
            "count": 1
           },
           {
            "bin_start": 8642.400000000001,
            "bin_end": 10044.300000000001,
            "count": 1
           },
           {
            "bin_start": 10044.300000000001,
            "bin_end": 11446.2,
            "count": 0
           },
           {
            "bin_start": 11446.2,
            "bin_end": 12848.1,
            "count": 0
           },
           {
            "bin_start": 12848.1,
            "bin_end": 14250,
            "count": 2
           }
          ]
         }
        },
        {
         "name": "Sales/Avg. Store",
         "dtype": "float64",
         "stats": {
          "unique_count": 23,
          "nan_count": 2,
          "min": "1.56391854",
          "max": "187.7956204",
          "histogram": [
           {
            "bin_start": 1.56391854,
            "bin_end": 20.187088726,
            "count": 9
           },
           {
            "bin_start": 20.187088726,
            "bin_end": 38.810258912,
            "count": 7
           },
           {
            "bin_start": 38.810258912,
            "bin_end": 57.433429098000005,
            "count": 2
           },
           {
            "bin_start": 57.433429098000005,
            "bin_end": 76.056599284,
            "count": 3
           },
           {
            "bin_start": 76.056599284,
            "bin_end": 94.67976947,
            "count": 1
           },
           {
            "bin_start": 94.67976947,
            "bin_end": 113.302939656,
            "count": 0
           },
           {
            "bin_start": 113.302939656,
            "bin_end": 131.926109842,
            "count": 0
           },
           {
            "bin_start": 131.926109842,
            "bin_end": 150.549280028,
            "count": 0
           },
           {
            "bin_start": 150.549280028,
            "bin_end": 169.172450214,
            "count": 0
           },
           {
            "bin_start": 169.172450214,
            "bin_end": 187.7956204,
            "count": 1
           }
          ]
         }
        },
        {
         "name": "Store Count Growth",
         "dtype": "float64",
         "stats": {
          "unique_count": 23,
          "nan_count": 2,
          "min": "-0.05951506245",
          "max": "0.2556621881",
          "histogram": [
           {
            "bin_start": -0.05951506245,
            "bin_end": -0.027997337395000002,
            "count": 3
           },
           {
            "bin_start": -0.027997337395000002,
            "bin_end": 0.003520387659999999,
            "count": 4
           },
           {
            "bin_start": 0.003520387659999999,
            "bin_end": 0.035038112715,
            "count": 6
           },
           {
            "bin_start": 0.035038112715,
            "bin_end": 0.06655583777,
            "count": 2
           },
           {
            "bin_start": 0.06655583777,
            "bin_end": 0.098073562825,
            "count": 5
           },
           {
            "bin_start": 0.098073562825,
            "bin_end": 0.12959128788000002,
            "count": 1
           },
           {
            "bin_start": 0.12959128788000002,
            "bin_end": 0.16110901293500002,
            "count": 1
           },
           {
            "bin_start": 0.16110901293500002,
            "bin_end": 0.19262673799000002,
            "count": 0
           },
           {
            "bin_start": 0.19262673799000002,
            "bin_end": 0.22414446304500002,
            "count": 0
           },
           {
            "bin_start": 0.22414446304500002,
            "bin_end": 0.2556621881,
            "count": 1
           }
          ]
         }
        },
        {
         "name": "Category",
         "dtype": "object",
         "stats": {
          "unique_count": 11,
          "nan_count": 1,
          "categories": [
           {
            "name": "Grocery",
            "count": 7
           },
           {
            "name": "10 others",
            "count": 17
           },
           {
            "name": "Missing",
            "count": 1
           }
          ]
         }
        },
        {
         "name": "_deepnote_index_column",
         "dtype": "int64"
        }
       ],
       "rows": [
        {
         "Company": "Walmart US",
         "Sales": 658119,
         "Stores": 4574,
         "Sales/Avg. Store": 65.64972497,
         "Store Count Growth": 0.01284322409,
         "Category": "Supercenters",
         "_deepnote_index_column": 0
        },
        {
         "Company": "Kroger",
         "Sales": 115037,
         "Stores": 3931,
         "Sales/Avg. Store": 30.03184963,
         "Store Count Growth": 0.05388739946,
         "Category": "Grocery",
         "_deepnote_index_column": 1
        },
        {
         "Company": "Costco",
         "Sales": 90048,
         "Stores": 495,
         "Sales/Avg. Store": 187.7956204,
         "Store Count Growth": 0.06681034483,
         "Category": "Warehouse Club",
         "_deepnote_index_column": 2
        },
        {
         "Company": "Home Depot",
         "Sales": 83976,
         "Stores": 1965,
         "Sales/Avg. Store": 42.73587786,
         "Store Count Growth": 0,
         "Category": "Home Improvement",
         "_deepnote_index_column": 3
        },
        {
         "Company": "Walgreen Boots",
         "Sales": 78924,
         "Stores": 8002,
         "Sales/Avg. Store": 9.81092672,
         "Store Count Growth": -0.01051069618,
         "Category": "Drug Stores",
         "_deepnote_index_column": 4
        },
        {
         "Company": "CVS incl. Target",
         "Sales": 77792,
         "Stores": 9813,
         "Sales/Avg. Store": 8.825958702,
         "Store Count Growth": 0.2556621881,
         "Category": "Drug Stores",
         "_deepnote_index_column": 5
        },
        {
         "Company": "Amazon",
         "Sales": 71687,
         "Stores": "nan",
         "Sales/Avg. Store": "nan",
         "Store Count Growth": "nan",
         "Category": "Electronic/Mail Order",
         "_deepnote_index_column": 6
        },
        {
         "Company": "Target",
         "Sales": 71208,
         "Stores": 1772,
         "Sales/Avg. Store": 39.98203257,
         "Store Count Growth": -0.01005586592,
         "Category": "Supercenters",
         "_deepnote_index_column": 7
        },
        {
         "Company": "Lowe's",
         "Sales": 60311,
         "Stores": 1828,
         "Sales/Avg. Store": 33.31179232,
         "Store Count Growth": 0.01952035694,
         "Category": "Home Improvement",
         "_deepnote_index_column": 8
        },
        {
         "Company": "Albertsons",
         "Sales": 56829,
         "Stores": 2326,
         "Sales/Avg. Store": 23.87773109,
         "Store Count Growth": -0.04437140509,
         "Category": "Grocery",
         "_deepnote_index_column": 9
        }
       ]
      },
      "text/plain": "               Company   Sales   Stores  Sales/Avg. Store  Store Count Growth  \\\n0           Walmart US  658119   4574.0         65.649725            0.012843   \n1               Kroger  115037   3931.0         30.031850            0.053887   \n2               Costco   90048    495.0        187.795620            0.066810   \n3           Home Depot   83976   1965.0         42.735878            0.000000   \n4       Walgreen Boots   78924   8002.0          9.810927           -0.010511   \n5     CVS incl. Target   77792   9813.0          8.825959            0.255662   \n6               Amazon   71687      NaN               NaN                 NaN   \n7               Target   71208   1772.0         39.982033           -0.010056   \n8               Lowe's   60311   1828.0         33.311792            0.019520   \n9           Albertsons   56829   2326.0         23.877731           -0.044371   \n10          Sam's Club   56828    655.0         87.293395            0.012365   \n11  Apple incl. Online   37664      NaN               NaN                 NaN   \n12            Best Buy   34980   1389.0         24.685956           -0.038754   \n13              Publix   34408   1351.0         25.997733            0.042438   \n14            Rite Aid   27486   4553.0          6.025649           -0.003720   \n15               Ahold   26903    794.0         34.446863            0.033854   \n16              Macy's   26028    889.0         30.442105            0.082826   \n17                 TJX   25012   2770.0          9.369545            0.078241   \n18                Aldi   24402   2021.0         12.715998            0.112273   \n19      Dollar General   22234  13350.0          1.768885            0.132412   \n20         Dollar Tree   21464  14250.0          1.563919            0.079627   \n21                 HEB   21384    323.0         66.825000            0.018927   \n22              Kohl's   19060   1169.0         16.353496            0.006024   \n23            Delhaize   18201   1280.0         13.783415           -0.059515   \n24              Meijer   16592    231.0         74.738739            0.084507   \n\n                 Category  \n0            Supercenters  \n1                 Grocery  \n2          Warehouse Club  \n3        Home Improvement  \n4             Drug Stores  \n5             Drug Stores  \n6   Electronic/Mail Order  \n7            Supercenters  \n8        Home Improvement  \n9                 Grocery  \n10        Warehouse Clubs  \n11                    NaN  \n12            Electronics  \n13                Grocery  \n14            Drug Stores  \n15                Grocery  \n16      Department Stores  \n17                Apparel  \n18                Grocery  \n19          Dollar Stores  \n20          Dollar Stores  \n21                Grocery  \n22      Department Stores  \n23                Grocery  \n24           Supercenters  ",
      "text/html": "<div>\n<style scoped>\n    .dataframe tbody tr th:only-of-type {\n        vertical-align: middle;\n    }\n\n    .dataframe tbody tr th {\n        vertical-align: top;\n    }\n\n    .dataframe thead th {\n        text-align: right;\n    }\n</style>\n<table border=\"1\" class=\"dataframe\">\n  <thead>\n    <tr style=\"text-align: right;\">\n      <th></th>\n      <th>Company</th>\n      <th>Sales</th>\n      <th>Stores</th>\n      <th>Sales/Avg. Store</th>\n      <th>Store Count Growth</th>\n      <th>Category</th>\n    </tr>\n  </thead>\n  <tbody>\n    <tr>\n      <th>0</th>\n      <td>Walmart US</td>\n      <td>658119</td>\n      <td>4574.0</td>\n      <td>65.649725</td>\n      <td>0.012843</td>\n      <td>Supercenters</td>\n    </tr>\n    <tr>\n      <th>1</th>\n      <td>Kroger</td>\n      <td>115037</td>\n      <td>3931.0</td>\n      <td>30.031850</td>\n      <td>0.053887</td>\n      <td>Grocery</td>\n    </tr>\n    <tr>\n      <th>2</th>\n      <td>Costco</td>\n      <td>90048</td>\n      <td>495.0</td>\n      <td>187.795620</td>\n      <td>0.066810</td>\n      <td>Warehouse Club</td>\n    </tr>\n    <tr>\n      <th>3</th>\n      <td>Home Depot</td>\n      <td>83976</td>\n      <td>1965.0</td>\n      <td>42.735878</td>\n      <td>0.000000</td>\n      <td>Home Improvement</td>\n    </tr>\n    <tr>\n      <th>4</th>\n      <td>Walgreen Boots</td>\n      <td>78924</td>\n      <td>8002.0</td>\n      <td>9.810927</td>\n      <td>-0.010511</td>\n      <td>Drug Stores</td>\n    </tr>\n    <tr>\n      <th>5</th>\n      <td>CVS incl. Target</td>\n      <td>77792</td>\n      <td>9813.0</td>\n      <td>8.825959</td>\n      <td>0.255662</td>\n      <td>Drug Stores</td>\n    </tr>\n    <tr>\n      <th>6</th>\n      <td>Amazon</td>\n      <td>71687</td>\n      <td>NaN</td>\n      <td>NaN</td>\n      <td>NaN</td>\n      <td>Electronic/Mail Order</td>\n    </tr>\n    <tr>\n      <th>7</th>\n      <td>Target</td>\n      <td>71208</td>\n      <td>1772.0</td>\n      <td>39.982033</td>\n      <td>-0.010056</td>\n      <td>Supercenters</td>\n    </tr>\n    <tr>\n      <th>8</th>\n      <td>Lowe's</td>\n      <td>60311</td>\n      <td>1828.0</td>\n      <td>33.311792</td>\n      <td>0.019520</td>\n      <td>Home Improvement</td>\n    </tr>\n    <tr>\n      <th>9</th>\n      <td>Albertsons</td>\n      <td>56829</td>\n      <td>2326.0</td>\n      <td>23.877731</td>\n      <td>-0.044371</td>\n      <td>Grocery</td>\n    </tr>\n    <tr>\n      <th>10</th>\n      <td>Sam's Club</td>\n      <td>56828</td>\n      <td>655.0</td>\n      <td>87.293395</td>\n      <td>0.012365</td>\n      <td>Warehouse Clubs</td>\n    </tr>\n    <tr>\n      <th>11</th>\n      <td>Apple incl. Online</td>\n      <td>37664</td>\n      <td>NaN</td>\n      <td>NaN</td>\n      <td>NaN</td>\n      <td>NaN</td>\n    </tr>\n    <tr>\n      <th>12</th>\n      <td>Best Buy</td>\n      <td>34980</td>\n      <td>1389.0</td>\n      <td>24.685956</td>\n      <td>-0.038754</td>\n      <td>Electronics</td>\n    </tr>\n    <tr>\n      <th>13</th>\n      <td>Publix</td>\n      <td>34408</td>\n      <td>1351.0</td>\n      <td>25.997733</td>\n      <td>0.042438</td>\n      <td>Grocery</td>\n    </tr>\n    <tr>\n      <th>14</th>\n      <td>Rite Aid</td>\n      <td>27486</td>\n      <td>4553.0</td>\n      <td>6.025649</td>\n      <td>-0.003720</td>\n      <td>Drug Stores</td>\n    </tr>\n    <tr>\n      <th>15</th>\n      <td>Ahold</td>\n      <td>26903</td>\n      <td>794.0</td>\n      <td>34.446863</td>\n      <td>0.033854</td>\n      <td>Grocery</td>\n    </tr>\n    <tr>\n      <th>16</th>\n      <td>Macy's</td>\n      <td>26028</td>\n      <td>889.0</td>\n      <td>30.442105</td>\n      <td>0.082826</td>\n      <td>Department Stores</td>\n    </tr>\n    <tr>\n      <th>17</th>\n      <td>TJX</td>\n      <td>25012</td>\n      <td>2770.0</td>\n      <td>9.369545</td>\n      <td>0.078241</td>\n      <td>Apparel</td>\n    </tr>\n    <tr>\n      <th>18</th>\n      <td>Aldi</td>\n      <td>24402</td>\n      <td>2021.0</td>\n      <td>12.715998</td>\n      <td>0.112273</td>\n      <td>Grocery</td>\n    </tr>\n    <tr>\n      <th>19</th>\n      <td>Dollar General</td>\n      <td>22234</td>\n      <td>13350.0</td>\n      <td>1.768885</td>\n      <td>0.132412</td>\n      <td>Dollar Stores</td>\n    </tr>\n    <tr>\n      <th>20</th>\n      <td>Dollar Tree</td>\n      <td>21464</td>\n      <td>14250.0</td>\n      <td>1.563919</td>\n      <td>0.079627</td>\n      <td>Dollar Stores</td>\n    </tr>\n    <tr>\n      <th>21</th>\n      <td>HEB</td>\n      <td>21384</td>\n      <td>323.0</td>\n      <td>66.825000</td>\n      <td>0.018927</td>\n      <td>Grocery</td>\n    </tr>\n    <tr>\n      <th>22</th>\n      <td>Kohl's</td>\n      <td>19060</td>\n      <td>1169.0</td>\n      <td>16.353496</td>\n      <td>0.006024</td>\n      <td>Department Stores</td>\n    </tr>\n    <tr>\n      <th>23</th>\n      <td>Delhaize</td>\n      <td>18201</td>\n      <td>1280.0</td>\n      <td>13.783415</td>\n      <td>-0.059515</td>\n      <td>Grocery</td>\n    </tr>\n    <tr>\n      <th>24</th>\n      <td>Meijer</td>\n      <td>16592</td>\n      <td>231.0</td>\n      <td>74.738739</td>\n      <td>0.084507</td>\n      <td>Supercenters</td>\n    </tr>\n  </tbody>\n</table>\n</div>"
     },
     "metadata": {}
    }
   ]
  },
  {
   "cell_type": "code",
   "metadata": {
    "cell_id": "b4f715a9-31af-4791-9e25-376e01d2aab8",
    "tags": [],
    "deepnote_to_be_reexecuted": false,
    "source_hash": "8e9d935d",
    "execution_start": 1645626703620,
    "execution_millis": 290,
    "deepnote_cell_type": "code",
    "deepnote_cell_height": 590,
    "deepnote_output_heights": [
     349
    ]
   },
   "source": "x = df_sorted['Company'][0:5] #Aplicamos slicing como en una lista de Python.\ny = df_sorted['Sales'][0:5]\n\nplt.bar(x, y)\nplt.title('Top 5 retailers')\nplt.xlabel('Company')\nplt.ylabel('Sales')\nplt.xticks(rotation='vertical') #Método que se usa para rotar el texto de los puntos en X para que no se amontonen.\nplt.show()",
   "execution_count": null,
   "outputs": [
    {
     "data": {
      "text/plain": "<Figure size 432x288 with 1 Axes>",
      "image/png": "[encoded data removed]"
     },
     "metadata": {
      "needs_background": "light",
      "image/png": {
       "width": 407,
       "height": 347
      }
     },
     "output_type": "display_data"
    }
   ]
  },
  {
   "cell_type": "markdown",
   "source": "## I. Preguntas del negocio",
   "metadata": {
    "formattedRanges": [],
    "cell_id": "cc141631-e246-41c7-a56b-ad74255d674f",
    "tags": [],
    "is_collapsed": false,
    "deepnote_cell_type": "text-cell-h2"
   }
  },
  {
   "cell_type": "markdown",
   "source": "### 1. ¿Cuál es el promedio de ventas sin contar a la compañía dominante?",
   "metadata": {
    "cell_id": "b919b92e-0df3-4f54-b093-c1db040bc4aa",
    "tags": [],
    "deepnote_cell_type": "markdown",
    "deepnote_cell_height": 94
   }
  },
  {
   "cell_type": "code",
   "metadata": {
    "cell_id": "d0684d2b-d018-42ad-9b48-b545aae09eec",
    "tags": [],
    "deepnote_to_be_reexecuted": false,
    "source_hash": "d85e7fcb",
    "execution_start": 1645626703994,
    "execution_millis": 4,
    "deepnote_cell_type": "code",
    "deepnote_cell_height": 214.125,
    "deepnote_output_heights": [
     117.125
    ]
   },
   "source": "df.max()",
   "execution_count": null,
   "outputs": [
    {
     "output_type": "execute_result",
     "execution_count": 5,
     "data": {
      "text/plain": "Company               Walmart US\nSales                     658119\nStores                   14250.0\nSales/Avg. Store       187.79562\nStore Count Growth      0.255662\ndtype: object"
     },
     "metadata": {}
    }
   ]
  },
  {
   "cell_type": "code",
   "metadata": {
    "cell_id": "de7193b8-12a3-4645-8af5-02bfb476c84b",
    "tags": [],
    "deepnote_to_be_reexecuted": false,
    "source_hash": "36e8ec47",
    "execution_start": 1645626704034,
    "execution_millis": 575,
    "deepnote_cell_type": "code",
    "deepnote_cell_height": 413.1875,
    "deepnote_output_heights": [
     21.1875,
     264
    ]
   },
   "source": "sns.barplot(x = 'Sales', y = 'Company', data = df)",
   "execution_count": null,
   "outputs": [
    {
     "output_type": "execute_result",
     "execution_count": 6,
     "data": {
      "text/plain": "<AxesSubplot:xlabel='Sales', ylabel='Company'>"
     },
     "metadata": {}
    },
    {
     "data": {
      "text/plain": "<Figure size 432x288 with 1 Axes>",
      "image/png": "[encoded data removed]"
     },
     "metadata": {
      "needs_background": "light",
      "image/png": {
       "width": 458,
       "height": 262
      }
     },
     "output_type": "display_data"
    }
   ]
  },
  {
   "cell_type": "markdown",
   "source": "La compañia dominante en ventas es Walmart US por tal motivo se debe excluir para la resolución del promedio de ventas sin contar la compañia dominante",
   "metadata": {
    "cell_id": "9d6fa34f-d2fd-45a1-84a7-4d562f85c5fb",
    "tags": [],
    "deepnote_cell_type": "markdown",
    "deepnote_cell_height": 74.78125
   }
  },
  {
   "cell_type": "code",
   "metadata": {
    "cell_id": "889123f6-751e-4ebe-9d43-aaa9122cd0ed",
    "tags": [],
    "deepnote_to_be_reexecuted": false,
    "source_hash": "5707132e",
    "execution_start": 1645626704676,
    "execution_millis": 22,
    "deepnote_cell_type": "code",
    "deepnote_cell_height": 618
   },
   "source": "df_sin_walmart = df.drop(df.index[0])\ndf_sin_walmart",
   "execution_count": null,
   "outputs": [
    {
     "output_type": "execute_result",
     "execution_count": 7,
     "data": {
      "application/vnd.deepnote.dataframe.v3+json": {
       "column_count": 6,
       "row_count": 24,
       "columns": [
        {
         "name": "Company",
         "dtype": "object",
         "stats": {
          "unique_count": 24,
          "nan_count": 0,
          "categories": [
           {
            "name": "Kroger",
            "count": 1
           },
           {
            "name": "Costco",
            "count": 1
           },
           {
            "name": "22 others",
            "count": 22
           }
          ]
         }
        },
        {
         "name": "Sales",
         "dtype": "int64",
         "stats": {
          "unique_count": 24,
          "nan_count": 0,
          "min": "16592",
          "max": "115037",
          "histogram": [
           {
            "bin_start": 16592,
            "bin_end": 26436.5,
            "count": 9
           },
           {
            "bin_start": 26436.5,
            "bin_end": 36281,
            "count": 4
           },
           {
            "bin_start": 36281,
            "bin_end": 46125.5,
            "count": 1
           },
           {
            "bin_start": 46125.5,
            "bin_end": 55970,
            "count": 0
           },
           {
            "bin_start": 55970,
            "bin_end": 65814.5,
            "count": 3
           },
           {
            "bin_start": 65814.5,
            "bin_end": 75659,
            "count": 2
           },
           {
            "bin_start": 75659,
            "bin_end": 85503.5,
            "count": 3
           },
           {
            "bin_start": 85503.5,
            "bin_end": 95348,
            "count": 1
           },
           {
            "bin_start": 95348,
            "bin_end": 105192.5,
            "count": 0
           },
           {
            "bin_start": 105192.5,
            "bin_end": 115037,
            "count": 1
           }
          ]
         }
        },
        {
         "name": "Stores",
         "dtype": "float64",
         "stats": {
          "unique_count": 22,
          "nan_count": 2,
          "min": "231.0",
          "max": "14250.0",
          "histogram": [
           {
            "bin_start": 231,
            "bin_end": 1632.9,
            "count": 10
           },
           {
            "bin_start": 1632.9,
            "bin_end": 3034.8,
            "count": 6
           },
           {
            "bin_start": 3034.8,
            "bin_end": 4436.700000000001,
            "count": 1
           },
           {
            "bin_start": 4436.700000000001,
            "bin_end": 5838.6,
            "count": 1
           },
           {
            "bin_start": 5838.6,
            "bin_end": 7240.5,
            "count": 0
           },
           {
            "bin_start": 7240.5,
            "bin_end": 8642.400000000001,
            "count": 1
           },
           {
            "bin_start": 8642.400000000001,
            "bin_end": 10044.300000000001,
            "count": 1
           },
           {
            "bin_start": 10044.300000000001,
            "bin_end": 11446.2,
            "count": 0
           },
           {
            "bin_start": 11446.2,
            "bin_end": 12848.1,
            "count": 0
           },
           {
            "bin_start": 12848.1,
            "bin_end": 14250,
            "count": 2
           }
          ]
         }
        },
        {
         "name": "Sales/Avg. Store",
         "dtype": "float64",
         "stats": {
          "unique_count": 22,
          "nan_count": 2,
          "min": "1.56391854",
          "max": "187.7956204",
          "histogram": [
           {
            "bin_start": 1.56391854,
            "bin_end": 20.187088726,
            "count": 9
           },
           {
            "bin_start": 20.187088726,
            "bin_end": 38.810258912,
            "count": 7
           },
           {
            "bin_start": 38.810258912,
            "bin_end": 57.433429098000005,
            "count": 2
           },
           {
            "bin_start": 57.433429098000005,
            "bin_end": 76.056599284,
            "count": 2
           },
           {
            "bin_start": 76.056599284,
            "bin_end": 94.67976947,
            "count": 1
           },
           {
            "bin_start": 94.67976947,
            "bin_end": 113.302939656,
            "count": 0
           },
           {
            "bin_start": 113.302939656,
            "bin_end": 131.926109842,
            "count": 0
           },
           {
            "bin_start": 131.926109842,
            "bin_end": 150.549280028,
            "count": 0
           },
           {
            "bin_start": 150.549280028,
            "bin_end": 169.172450214,
            "count": 0
           },
           {
            "bin_start": 169.172450214,
            "bin_end": 187.7956204,
            "count": 1
           }
          ]
         }
        },
        {
         "name": "Store Count Growth",
         "dtype": "float64",
         "stats": {
          "unique_count": 22,
          "nan_count": 2,
          "min": "-0.05951506245",
          "max": "0.2556621881",
          "histogram": [
           {
            "bin_start": -0.05951506245,
            "bin_end": -0.027997337395000002,
            "count": 3
           },
           {
            "bin_start": -0.027997337395000002,
            "bin_end": 0.003520387659999999,
            "count": 4
           },
           {
            "bin_start": 0.003520387659999999,
            "bin_end": 0.035038112715,
            "count": 5
           },
           {
            "bin_start": 0.035038112715,
            "bin_end": 0.06655583777,
            "count": 2
           },
           {
            "bin_start": 0.06655583777,
            "bin_end": 0.098073562825,
            "count": 5
           },
           {
            "bin_start": 0.098073562825,
            "bin_end": 0.12959128788000002,
            "count": 1
           },
           {
            "bin_start": 0.12959128788000002,
            "bin_end": 0.16110901293500002,
            "count": 1
           },
           {
            "bin_start": 0.16110901293500002,
            "bin_end": 0.19262673799000002,
            "count": 0
           },
           {
            "bin_start": 0.19262673799000002,
            "bin_end": 0.22414446304500002,
            "count": 0
           },
           {
            "bin_start": 0.22414446304500002,
            "bin_end": 0.2556621881,
            "count": 1
           }
          ]
         }
        },
        {
         "name": "Category",
         "dtype": "object",
         "stats": {
          "unique_count": 11,
          "nan_count": 1,
          "categories": [
           {
            "name": "Grocery",
            "count": 7
           },
           {
            "name": "10 others",
            "count": 16
           },
           {
            "name": "Missing",
            "count": 1
           }
          ]
         }
        },
        {
         "name": "_deepnote_index_column",
         "dtype": "int64"
        }
       ],
       "rows": [
        {
         "Company": "Kroger",
         "Sales": 115037,
         "Stores": 3931,
         "Sales/Avg. Store": 30.03184963,
         "Store Count Growth": 0.05388739946,
         "Category": "Grocery",
         "_deepnote_index_column": 1
        },
        {
         "Company": "Costco",
         "Sales": 90048,
         "Stores": 495,
         "Sales/Avg. Store": 187.7956204,
         "Store Count Growth": 0.06681034483,
         "Category": "Warehouse Club",
         "_deepnote_index_column": 2
        },
        {
         "Company": "Home Depot",
         "Sales": 83976,
         "Stores": 1965,
         "Sales/Avg. Store": 42.73587786,
         "Store Count Growth": 0,
         "Category": "Home Improvement",
         "_deepnote_index_column": 3
        },
        {
         "Company": "Walgreen Boots",
         "Sales": 78924,
         "Stores": 8002,
         "Sales/Avg. Store": 9.81092672,
         "Store Count Growth": -0.01051069618,
         "Category": "Drug Stores",
         "_deepnote_index_column": 4
        },
        {
         "Company": "CVS incl. Target",
         "Sales": 77792,
         "Stores": 9813,
         "Sales/Avg. Store": 8.825958702,
         "Store Count Growth": 0.2556621881,
         "Category": "Drug Stores",
         "_deepnote_index_column": 5
        },
        {
         "Company": "Amazon",
         "Sales": 71687,
         "Stores": "nan",
         "Sales/Avg. Store": "nan",
         "Store Count Growth": "nan",
         "Category": "Electronic/Mail Order",
         "_deepnote_index_column": 6
        },
        {
         "Company": "Target",
         "Sales": 71208,
         "Stores": 1772,
         "Sales/Avg. Store": 39.98203257,
         "Store Count Growth": -0.01005586592,
         "Category": "Supercenters",
         "_deepnote_index_column": 7
        },
        {
         "Company": "Lowe's",
         "Sales": 60311,
         "Stores": 1828,
         "Sales/Avg. Store": 33.31179232,
         "Store Count Growth": 0.01952035694,
         "Category": "Home Improvement",
         "_deepnote_index_column": 8
        },
        {
         "Company": "Albertsons",
         "Sales": 56829,
         "Stores": 2326,
         "Sales/Avg. Store": 23.87773109,
         "Store Count Growth": -0.04437140509,
         "Category": "Grocery",
         "_deepnote_index_column": 9
        },
        {
         "Company": "Sam's Club",
         "Sales": 56828,
         "Stores": 655,
         "Sales/Avg. Store": 87.29339478,
         "Store Count Growth": 0.01236476043,
         "Category": "Warehouse Clubs",
         "_deepnote_index_column": 10
        }
       ]
      },
      "text/plain": "               Company   Sales   Stores  Sales/Avg. Store  Store Count Growth  \\\n1               Kroger  115037   3931.0         30.031850            0.053887   \n2               Costco   90048    495.0        187.795620            0.066810   \n3           Home Depot   83976   1965.0         42.735878            0.000000   \n4       Walgreen Boots   78924   8002.0          9.810927           -0.010511   \n5     CVS incl. Target   77792   9813.0          8.825959            0.255662   \n6               Amazon   71687      NaN               NaN                 NaN   \n7               Target   71208   1772.0         39.982033           -0.010056   \n8               Lowe's   60311   1828.0         33.311792            0.019520   \n9           Albertsons   56829   2326.0         23.877731           -0.044371   \n10          Sam's Club   56828    655.0         87.293395            0.012365   \n11  Apple incl. Online   37664      NaN               NaN                 NaN   \n12            Best Buy   34980   1389.0         24.685956           -0.038754   \n13              Publix   34408   1351.0         25.997733            0.042438   \n14            Rite Aid   27486   4553.0          6.025649           -0.003720   \n15               Ahold   26903    794.0         34.446863            0.033854   \n16              Macy's   26028    889.0         30.442105            0.082826   \n17                 TJX   25012   2770.0          9.369545            0.078241   \n18                Aldi   24402   2021.0         12.715998            0.112273   \n19      Dollar General   22234  13350.0          1.768885            0.132412   \n20         Dollar Tree   21464  14250.0          1.563919            0.079627   \n21                 HEB   21384    323.0         66.825000            0.018927   \n22              Kohl's   19060   1169.0         16.353496            0.006024   \n23            Delhaize   18201   1280.0         13.783415           -0.059515   \n24              Meijer   16592    231.0         74.738739            0.084507   \n\n                 Category  \n1                 Grocery  \n2          Warehouse Club  \n3        Home Improvement  \n4             Drug Stores  \n5             Drug Stores  \n6   Electronic/Mail Order  \n7            Supercenters  \n8        Home Improvement  \n9                 Grocery  \n10        Warehouse Clubs  \n11                    NaN  \n12            Electronics  \n13                Grocery  \n14            Drug Stores  \n15                Grocery  \n16      Department Stores  \n17                Apparel  \n18                Grocery  \n19          Dollar Stores  \n20          Dollar Stores  \n21                Grocery  \n22      Department Stores  \n23                Grocery  \n24           Supercenters  ",
      "text/html": "<div>\n<style scoped>\n    .dataframe tbody tr th:only-of-type {\n        vertical-align: middle;\n    }\n\n    .dataframe tbody tr th {\n        vertical-align: top;\n    }\n\n    .dataframe thead th {\n        text-align: right;\n    }\n</style>\n<table border=\"1\" class=\"dataframe\">\n  <thead>\n    <tr style=\"text-align: right;\">\n      <th></th>\n      <th>Company</th>\n      <th>Sales</th>\n      <th>Stores</th>\n      <th>Sales/Avg. Store</th>\n      <th>Store Count Growth</th>\n      <th>Category</th>\n    </tr>\n  </thead>\n  <tbody>\n    <tr>\n      <th>1</th>\n      <td>Kroger</td>\n      <td>115037</td>\n      <td>3931.0</td>\n      <td>30.031850</td>\n      <td>0.053887</td>\n      <td>Grocery</td>\n    </tr>\n    <tr>\n      <th>2</th>\n      <td>Costco</td>\n      <td>90048</td>\n      <td>495.0</td>\n      <td>187.795620</td>\n      <td>0.066810</td>\n      <td>Warehouse Club</td>\n    </tr>\n    <tr>\n      <th>3</th>\n      <td>Home Depot</td>\n      <td>83976</td>\n      <td>1965.0</td>\n      <td>42.735878</td>\n      <td>0.000000</td>\n      <td>Home Improvement</td>\n    </tr>\n    <tr>\n      <th>4</th>\n      <td>Walgreen Boots</td>\n      <td>78924</td>\n      <td>8002.0</td>\n      <td>9.810927</td>\n      <td>-0.010511</td>\n      <td>Drug Stores</td>\n    </tr>\n    <tr>\n      <th>5</th>\n      <td>CVS incl. Target</td>\n      <td>77792</td>\n      <td>9813.0</td>\n      <td>8.825959</td>\n      <td>0.255662</td>\n      <td>Drug Stores</td>\n    </tr>\n    <tr>\n      <th>6</th>\n      <td>Amazon</td>\n      <td>71687</td>\n      <td>NaN</td>\n      <td>NaN</td>\n      <td>NaN</td>\n      <td>Electronic/Mail Order</td>\n    </tr>\n    <tr>\n      <th>7</th>\n      <td>Target</td>\n      <td>71208</td>\n      <td>1772.0</td>\n      <td>39.982033</td>\n      <td>-0.010056</td>\n      <td>Supercenters</td>\n    </tr>\n    <tr>\n      <th>8</th>\n      <td>Lowe's</td>\n      <td>60311</td>\n      <td>1828.0</td>\n      <td>33.311792</td>\n      <td>0.019520</td>\n      <td>Home Improvement</td>\n    </tr>\n    <tr>\n      <th>9</th>\n      <td>Albertsons</td>\n      <td>56829</td>\n      <td>2326.0</td>\n      <td>23.877731</td>\n      <td>-0.044371</td>\n      <td>Grocery</td>\n    </tr>\n    <tr>\n      <th>10</th>\n      <td>Sam's Club</td>\n      <td>56828</td>\n      <td>655.0</td>\n      <td>87.293395</td>\n      <td>0.012365</td>\n      <td>Warehouse Clubs</td>\n    </tr>\n    <tr>\n      <th>11</th>\n      <td>Apple incl. Online</td>\n      <td>37664</td>\n      <td>NaN</td>\n      <td>NaN</td>\n      <td>NaN</td>\n      <td>NaN</td>\n    </tr>\n    <tr>\n      <th>12</th>\n      <td>Best Buy</td>\n      <td>34980</td>\n      <td>1389.0</td>\n      <td>24.685956</td>\n      <td>-0.038754</td>\n      <td>Electronics</td>\n    </tr>\n    <tr>\n      <th>13</th>\n      <td>Publix</td>\n      <td>34408</td>\n      <td>1351.0</td>\n      <td>25.997733</td>\n      <td>0.042438</td>\n      <td>Grocery</td>\n    </tr>\n    <tr>\n      <th>14</th>\n      <td>Rite Aid</td>\n      <td>27486</td>\n      <td>4553.0</td>\n      <td>6.025649</td>\n      <td>-0.003720</td>\n      <td>Drug Stores</td>\n    </tr>\n    <tr>\n      <th>15</th>\n      <td>Ahold</td>\n      <td>26903</td>\n      <td>794.0</td>\n      <td>34.446863</td>\n      <td>0.033854</td>\n      <td>Grocery</td>\n    </tr>\n    <tr>\n      <th>16</th>\n      <td>Macy's</td>\n      <td>26028</td>\n      <td>889.0</td>\n      <td>30.442105</td>\n      <td>0.082826</td>\n      <td>Department Stores</td>\n    </tr>\n    <tr>\n      <th>17</th>\n      <td>TJX</td>\n      <td>25012</td>\n      <td>2770.0</td>\n      <td>9.369545</td>\n      <td>0.078241</td>\n      <td>Apparel</td>\n    </tr>\n    <tr>\n      <th>18</th>\n      <td>Aldi</td>\n      <td>24402</td>\n      <td>2021.0</td>\n      <td>12.715998</td>\n      <td>0.112273</td>\n      <td>Grocery</td>\n    </tr>\n    <tr>\n      <th>19</th>\n      <td>Dollar General</td>\n      <td>22234</td>\n      <td>13350.0</td>\n      <td>1.768885</td>\n      <td>0.132412</td>\n      <td>Dollar Stores</td>\n    </tr>\n    <tr>\n      <th>20</th>\n      <td>Dollar Tree</td>\n      <td>21464</td>\n      <td>14250.0</td>\n      <td>1.563919</td>\n      <td>0.079627</td>\n      <td>Dollar Stores</td>\n    </tr>\n    <tr>\n      <th>21</th>\n      <td>HEB</td>\n      <td>21384</td>\n      <td>323.0</td>\n      <td>66.825000</td>\n      <td>0.018927</td>\n      <td>Grocery</td>\n    </tr>\n    <tr>\n      <th>22</th>\n      <td>Kohl's</td>\n      <td>19060</td>\n      <td>1169.0</td>\n      <td>16.353496</td>\n      <td>0.006024</td>\n      <td>Department Stores</td>\n    </tr>\n    <tr>\n      <th>23</th>\n      <td>Delhaize</td>\n      <td>18201</td>\n      <td>1280.0</td>\n      <td>13.783415</td>\n      <td>-0.059515</td>\n      <td>Grocery</td>\n    </tr>\n    <tr>\n      <th>24</th>\n      <td>Meijer</td>\n      <td>16592</td>\n      <td>231.0</td>\n      <td>74.738739</td>\n      <td>0.084507</td>\n      <td>Supercenters</td>\n    </tr>\n  </tbody>\n</table>\n</div>"
     },
     "metadata": {}
    }
   ]
  },
  {
   "cell_type": "markdown",
   "source": "Al eliminar la fila [0], que incluye la compañia Walmart,podemos obtener el conjunto necesario para poder responder a la pregunta solicitada, ya que descartamos la compañia de mayor ventas",
   "metadata": {
    "cell_id": "b512f996-9ffb-490c-9d86-4d7237a6f1a8",
    "tags": [],
    "deepnote_cell_type": "markdown",
    "deepnote_cell_height": 74.78125
   }
  },
  {
   "cell_type": "code",
   "metadata": {
    "cell_id": "a79ad50f-52c6-4197-a7f3-7b3780b833b1",
    "tags": [],
    "deepnote_to_be_reexecuted": false,
    "source_hash": "f3ff0308",
    "execution_start": 1645626704715,
    "execution_millis": 1,
    "deepnote_cell_type": "code",
    "deepnote_cell_height": 118.1875,
    "deepnote_output_heights": [
     21.1875
    ]
   },
   "source": "df_sin_walmart['Sales'].mean()",
   "execution_count": null,
   "outputs": [
    {
     "output_type": "execute_result",
     "execution_count": 8,
     "data": {
      "text/plain": "46602.416666666664"
     },
     "metadata": {}
    }
   ]
  },
  {
   "cell_type": "markdown",
   "source": "El promedio en ventas excluyendo la empresa más dominante es de 46602.4166 USD.",
   "metadata": {
    "cell_id": "67658ea2-b556-4004-82a7-5a57dfd54b9f",
    "tags": [],
    "deepnote_cell_type": "markdown",
    "deepnote_cell_height": 52.390625
   }
  },
  {
   "cell_type": "markdown",
   "source": "### 2. ¿Cuánto dinero en ventas generó la mayoría de las compañías?",
   "metadata": {
    "cell_id": "1814847a-365e-4bae-9fb9-6bed9b874b37",
    "tags": [],
    "deepnote_cell_type": "markdown",
    "deepnote_cell_height": 94
   }
  },
  {
   "cell_type": "code",
   "metadata": {
    "cell_id": "7c7057cc-813b-4f93-8826-caed6cc738f9",
    "tags": [],
    "deepnote_to_be_reexecuted": false,
    "source_hash": "729908fc",
    "execution_start": 1645626704776,
    "execution_millis": 1016,
    "deepnote_cell_type": "code",
    "deepnote_cell_height": 413.1875,
    "deepnote_output_heights": [
     21.1875,
     264
    ]
   },
   "source": "sns.barplot(x = 'Sales', y = 'Company', data = df_sin_walmart)",
   "execution_count": null,
   "outputs": [
    {
     "output_type": "execute_result",
     "execution_count": 9,
     "data": {
      "text/plain": "<AxesSubplot:xlabel='Sales', ylabel='Company'>"
     },
     "metadata": {}
    },
    {
     "data": {
      "text/plain": "<Figure size 432x288 with 1 Axes>",
      "image/png": "[encoded data removed]"
     },
     "metadata": {
      "needs_background": "light",
      "image/png": {
       "width": 474,
       "height": 262
      }
     },
     "output_type": "display_data"
    }
   ]
  },
  {
   "cell_type": "code",
   "metadata": {
    "cell_id": "365c3690-be46-4318-8f10-652b81792873",
    "tags": [],
    "deepnote_to_be_reexecuted": false,
    "source_hash": "caffe891",
    "execution_start": 1645626705443,
    "execution_millis": 359,
    "deepnote_cell_type": "code",
    "deepnote_cell_height": 233.3125,
    "deepnote_output_heights": [
     136.3125
    ]
   },
   "source": "df_sin_walmart[(df_sin_walmart['Sales']>0) & (df_sin_walmart['Sales'] < 20000)].count()",
   "execution_count": null,
   "outputs": [
    {
     "output_type": "execute_result",
     "execution_count": 10,
     "data": {
      "text/plain": "Company               3\nSales                 3\nStores                3\nSales/Avg. Store      3\nStore Count Growth    3\nCategory              3\ndtype: int64"
     },
     "metadata": {}
    }
   ]
  },
  {
   "cell_type": "code",
   "metadata": {
    "cell_id": "6576615b-f672-4112-a4fb-73bbf30661f9",
    "tags": [],
    "deepnote_to_be_reexecuted": false,
    "source_hash": "6ccb3e",
    "execution_start": 1645626705484,
    "execution_millis": 332,
    "deepnote_cell_type": "code",
    "deepnote_cell_height": 233.3125,
    "deepnote_output_heights": [
     136.3125
    ]
   },
   "source": "df_sin_walmart[(df_sin_walmart['Sales']>20000) & (df_sin_walmart['Sales'] < 40000)].count()",
   "execution_count": null,
   "outputs": [
    {
     "output_type": "execute_result",
     "execution_count": 11,
     "data": {
      "text/plain": "Company               11\nSales                 11\nStores                10\nSales/Avg. Store      10\nStore Count Growth    10\nCategory              10\ndtype: int64"
     },
     "metadata": {}
    }
   ]
  },
  {
   "cell_type": "code",
   "metadata": {
    "cell_id": "741649c0-3241-4908-8468-7c0b76d8f1fd",
    "tags": [],
    "deepnote_to_be_reexecuted": false,
    "source_hash": "6c73e4d",
    "execution_start": 1645626705485,
    "execution_millis": 1,
    "deepnote_cell_type": "code",
    "deepnote_cell_height": 233.3125,
    "deepnote_output_heights": [
     136.3125
    ]
   },
   "source": "df_sin_walmart[(df_sin_walmart['Sales']>40000) & (df_sin_walmart['Sales'] < 60000)].count()",
   "execution_count": null,
   "outputs": [
    {
     "output_type": "execute_result",
     "execution_count": 12,
     "data": {
      "text/plain": "Company               2\nSales                 2\nStores                2\nSales/Avg. Store      2\nStore Count Growth    2\nCategory              2\ndtype: int64"
     },
     "metadata": {}
    }
   ]
  },
  {
   "cell_type": "code",
   "metadata": {
    "cell_id": "0dd30c60-922e-495e-9cef-7b17d226ed94",
    "tags": [],
    "deepnote_to_be_reexecuted": false,
    "source_hash": "e1999067",
    "execution_start": 1645626705529,
    "execution_millis": 295,
    "deepnote_cell_type": "code",
    "deepnote_cell_height": 233.3125,
    "deepnote_output_heights": [
     136.3125
    ]
   },
   "source": "df_sin_walmart[(df_sin_walmart['Sales']>60000) & (df_sin_walmart['Sales'] < 80000)].count()",
   "execution_count": null,
   "outputs": [
    {
     "output_type": "execute_result",
     "execution_count": 13,
     "data": {
      "text/plain": "Company               5\nSales                 5\nStores                4\nSales/Avg. Store      4\nStore Count Growth    4\nCategory              5\ndtype: int64"
     },
     "metadata": {}
    }
   ]
  },
  {
   "cell_type": "code",
   "metadata": {
    "cell_id": "03c71040-c18c-4cc6-9b9d-6f0dcde8b96c",
    "tags": [],
    "deepnote_to_be_reexecuted": false,
    "source_hash": "e21fddc1",
    "execution_start": 1645626705537,
    "execution_millis": 9,
    "deepnote_cell_type": "code",
    "deepnote_cell_height": 233.3125,
    "deepnote_output_heights": [
     136.3125
    ]
   },
   "source": "df_sin_walmart[(df_sin_walmart['Sales']>80000) & (df_sin_walmart['Sales'] < 100000)].count()",
   "execution_count": null,
   "outputs": [
    {
     "output_type": "execute_result",
     "execution_count": 14,
     "data": {
      "text/plain": "Company               2\nSales                 2\nStores                2\nSales/Avg. Store      2\nStore Count Growth    2\nCategory              2\ndtype: int64"
     },
     "metadata": {}
    }
   ]
  },
  {
   "cell_type": "code",
   "metadata": {
    "cell_id": "ffb07c01-0ef9-46f3-904e-9b5119079475",
    "tags": [],
    "deepnote_to_be_reexecuted": false,
    "source_hash": "d41c1a47",
    "execution_start": 1645626705598,
    "execution_millis": 227,
    "deepnote_cell_type": "code",
    "deepnote_cell_height": 233.3125,
    "deepnote_output_heights": [
     136.3125
    ]
   },
   "source": "df_sin_walmart[(df_sin_walmart['Sales']>100000) & (df_sin_walmart['Sales'] < 120000)].count()",
   "execution_count": null,
   "outputs": [
    {
     "output_type": "execute_result",
     "execution_count": 15,
     "data": {
      "text/plain": "Company               1\nSales                 1\nStores                1\nSales/Avg. Store      1\nStore Count Growth    1\nCategory              1\ndtype: int64"
     },
     "metadata": {}
    }
   ]
  },
  {
   "cell_type": "markdown",
   "source": "Como se puede observar en la grafica además de la segmentación por bloques la mayoria de las compañias genero ventas entre 20000 y 40000 USD.",
   "metadata": {
    "cell_id": "f5c5494c-aaf5-42c1-8c79-18fb0127bb70",
    "tags": [],
    "deepnote_cell_type": "markdown",
    "deepnote_cell_height": 74.78125
   }
  },
  {
   "cell_type": "markdown",
   "source": "### 3. ¿Cuántas tiendas tiene la mayoría de las compañías?",
   "metadata": {
    "cell_id": "9801295a-a27d-48af-ae87-c653cabd8f67",
    "tags": [],
    "deepnote_cell_type": "markdown",
    "deepnote_cell_height": 62
   }
  },
  {
   "cell_type": "code",
   "metadata": {
    "cell_id": "cfcc2261-f6a1-44d8-b8fa-184eec2a77ff",
    "tags": [],
    "deepnote_to_be_reexecuted": false,
    "source_hash": "31ef5a12",
    "execution_start": 1645626705599,
    "execution_millis": 751,
    "deepnote_cell_type": "code",
    "deepnote_cell_height": 413.1875,
    "deepnote_output_heights": [
     21.1875,
     264
    ]
   },
   "source": "sns.barplot(x = 'Stores', y = 'Company', data = df)",
   "execution_count": null,
   "outputs": [
    {
     "output_type": "execute_result",
     "execution_count": 16,
     "data": {
      "text/plain": "<AxesSubplot:xlabel='Stores', ylabel='Company'>"
     },
     "metadata": {}
    },
    {
     "data": {
      "text/plain": "<Figure size 432x288 with 1 Axes>",
      "image/png": "[encoded data removed]"
     },
     "metadata": {
      "needs_background": "light",
      "image/png": {
       "width": 458,
       "height": 262
      }
     },
     "output_type": "display_data"
    }
   ]
  },
  {
   "cell_type": "code",
   "metadata": {
    "cell_id": "43865b87-fddf-4f5e-ab50-4ea8089f75b6",
    "tags": [],
    "deepnote_to_be_reexecuted": false,
    "source_hash": "2d59f7a4",
    "execution_start": 1645626706347,
    "execution_millis": 0,
    "deepnote_cell_type": "code",
    "deepnote_cell_height": 233.3125,
    "deepnote_output_heights": [
     136.3125
    ]
   },
   "source": "df[(df['Stores']>0) & (df['Stores'] < 2000)].count()",
   "execution_count": null,
   "outputs": [
    {
     "output_type": "execute_result",
     "execution_count": 17,
     "data": {
      "text/plain": "Company               13\nSales                 13\nStores                13\nSales/Avg. Store      13\nStore Count Growth    13\nCategory              13\ndtype: int64"
     },
     "metadata": {}
    }
   ]
  },
  {
   "cell_type": "code",
   "metadata": {
    "cell_id": "47da9cc5-1d4b-4bf2-b146-ad9d1ad5c3e6",
    "tags": [],
    "deepnote_to_be_reexecuted": false,
    "source_hash": "ac03d8ed",
    "execution_start": 1645626706403,
    "execution_millis": 10,
    "deepnote_cell_type": "code",
    "deepnote_cell_height": 233.3125,
    "deepnote_output_heights": [
     136.3125
    ]
   },
   "source": "df[(df['Stores']>2000) & (df['Stores'] < 4000)].count()",
   "execution_count": null,
   "outputs": [
    {
     "output_type": "execute_result",
     "execution_count": 18,
     "data": {
      "text/plain": "Company               4\nSales                 4\nStores                4\nSales/Avg. Store      4\nStore Count Growth    4\nCategory              4\ndtype: int64"
     },
     "metadata": {}
    }
   ]
  },
  {
   "cell_type": "code",
   "metadata": {
    "cell_id": "e72b12e9-e1d7-48f2-ab58-1eb27b07da7f",
    "tags": [],
    "deepnote_to_be_reexecuted": false,
    "source_hash": "e7a30fdb",
    "execution_start": 1645626706431,
    "execution_millis": 10,
    "deepnote_cell_type": "code",
    "deepnote_cell_height": 233.3125,
    "deepnote_output_heights": [
     136.3125
    ]
   },
   "source": "df[(df['Stores']>4000) & (df['Stores'] < 6000)].count()",
   "execution_count": null,
   "outputs": [
    {
     "output_type": "execute_result",
     "execution_count": 19,
     "data": {
      "text/plain": "Company               2\nSales                 2\nStores                2\nSales/Avg. Store      2\nStore Count Growth    2\nCategory              2\ndtype: int64"
     },
     "metadata": {}
    }
   ]
  },
  {
   "cell_type": "code",
   "metadata": {
    "cell_id": "cb712883-71a8-4f88-b828-2c81a68874e7",
    "tags": [],
    "deepnote_to_be_reexecuted": false,
    "source_hash": "e1fc86cf",
    "execution_start": 1645626706432,
    "execution_millis": 9,
    "deepnote_cell_type": "code",
    "deepnote_cell_height": 233.3125,
    "deepnote_output_heights": [
     136.3125
    ]
   },
   "source": "df[(df['Stores']>6000) & (df['Stores'] < 8000)].count()",
   "execution_count": null,
   "outputs": [
    {
     "output_type": "execute_result",
     "execution_count": 20,
     "data": {
      "text/plain": "Company               0\nSales                 0\nStores                0\nSales/Avg. Store      0\nStore Count Growth    0\nCategory              0\ndtype: int64"
     },
     "metadata": {}
    }
   ]
  },
  {
   "cell_type": "code",
   "metadata": {
    "cell_id": "3d6221fb-dd86-4e54-aa83-7409ec79fbfc",
    "tags": [],
    "deepnote_to_be_reexecuted": false,
    "source_hash": "60c49f40",
    "execution_start": 1645626706477,
    "execution_millis": 6,
    "deepnote_cell_type": "code",
    "deepnote_cell_height": 233.3125,
    "deepnote_output_heights": [
     136.3125
    ]
   },
   "source": "df[(df['Stores']>8000) & (df['Stores'] < 10000)].count()",
   "execution_count": null,
   "outputs": [
    {
     "output_type": "execute_result",
     "execution_count": 21,
     "data": {
      "text/plain": "Company               2\nSales                 2\nStores                2\nSales/Avg. Store      2\nStore Count Growth    2\nCategory              2\ndtype: int64"
     },
     "metadata": {}
    }
   ]
  },
  {
   "cell_type": "code",
   "metadata": {
    "cell_id": "c0697e1e-1fe5-4d93-9d00-5325e28fe25b",
    "tags": [],
    "deepnote_to_be_reexecuted": false,
    "source_hash": "ce8d3ddb",
    "execution_start": 1645626706480,
    "execution_millis": 63,
    "deepnote_cell_type": "code",
    "deepnote_cell_height": 233.3125,
    "deepnote_output_heights": [
     136.3125
    ]
   },
   "source": "df[(df['Stores']>10000) & (df['Stores'] < 12000)].count()",
   "execution_count": null,
   "outputs": [
    {
     "output_type": "execute_result",
     "execution_count": 22,
     "data": {
      "text/plain": "Company               0\nSales                 0\nStores                0\nSales/Avg. Store      0\nStore Count Growth    0\nCategory              0\ndtype: int64"
     },
     "metadata": {}
    }
   ]
  },
  {
   "cell_type": "code",
   "metadata": {
    "cell_id": "834b269d-44ad-4659-a862-50735a0e4436",
    "tags": [],
    "deepnote_to_be_reexecuted": false,
    "source_hash": "2fd239e0",
    "execution_start": 1645626706543,
    "execution_millis": 4,
    "deepnote_cell_type": "code",
    "deepnote_cell_height": 233.3125,
    "deepnote_output_heights": [
     136.3125
    ]
   },
   "source": "df[(df['Stores']>12000) & (df['Stores'] < 14000)].count()",
   "execution_count": null,
   "outputs": [
    {
     "output_type": "execute_result",
     "execution_count": 23,
     "data": {
      "text/plain": "Company               1\nSales                 1\nStores                1\nSales/Avg. Store      1\nStore Count Growth    1\nCategory              1\ndtype: int64"
     },
     "metadata": {}
    }
   ]
  },
  {
   "cell_type": "markdown",
   "source": "La mayor cantidad de tiendas que tiene la mayoria de las compañias evaluadas en este dataset esta entre 0 y 2000 tiendas",
   "metadata": {
    "cell_id": "80406406-e3f0-4d78-a782-578be7465dbe",
    "tags": [],
    "deepnote_cell_type": "markdown",
    "deepnote_cell_height": 74.78125
   }
  },
  {
   "cell_type": "markdown",
   "source": "### 4. ¿La cantidad de tiendas está relacionada con la cantidad de ventas? Es decir, ¿si una empresa tiene más tiendas tendrá más dinero de ventas?",
   "metadata": {
    "cell_id": "c9b5de28-cd12-4088-9bc0-93df660401f3",
    "tags": [],
    "deepnote_cell_type": "markdown",
    "deepnote_cell_height": 126
   }
  },
  {
   "cell_type": "code",
   "metadata": {
    "cell_id": "20ca7443-0c6a-4227-8194-2d9b63b6bc5d",
    "tags": [],
    "deepnote_to_be_reexecuted": false,
    "source_hash": "f8453a83",
    "execution_start": 1645626706584,
    "execution_millis": 76,
    "deepnote_cell_type": "code",
    "deepnote_cell_height": 354
   },
   "source": "df.corr()",
   "execution_count": null,
   "outputs": [
    {
     "output_type": "execute_result",
     "execution_count": 24,
     "data": {
      "application/vnd.deepnote.dataframe.v3+json": {
       "column_count": 4,
       "row_count": 4,
       "columns": [
        {
         "name": "Sales",
         "dtype": "float64",
         "stats": {
          "unique_count": 4,
          "nan_count": 0,
          "min": "-0.07831518858577674",
          "max": "1.0",
          "histogram": [
           {
            "bin_start": -0.07831518858577674,
            "bin_end": 0.029516330272800928,
            "count": 1
           },
           {
            "bin_start": 0.029516330272800928,
            "bin_end": 0.1373478491313786,
            "count": 1
           },
           {
            "bin_start": 0.1373478491313786,
            "bin_end": 0.24517936798995627,
            "count": 1
           },
           {
            "bin_start": 0.24517936798995627,
            "bin_end": 0.35301088684853393,
            "count": 0
           },
           {
            "bin_start": 0.35301088684853393,
            "bin_end": 0.4608424057071116,
            "count": 0
           },
           {
            "bin_start": 0.4608424057071116,
            "bin_end": 0.5686739245656893,
            "count": 0
           },
           {
            "bin_start": 0.5686739245656893,
            "bin_end": 0.676505443424267,
            "count": 0
           },
           {
            "bin_start": 0.676505443424267,
            "bin_end": 0.7843369622828447,
            "count": 0
           },
           {
            "bin_start": 0.7843369622828447,
            "bin_end": 0.8921684811414223,
            "count": 0
           },
           {
            "bin_start": 0.8921684811414223,
            "bin_end": 1,
            "count": 1
           }
          ]
         }
        },
        {
         "name": "Stores",
         "dtype": "float64",
         "stats": {
          "unique_count": 4,
          "nan_count": 0,
          "min": "-0.44616585302635803",
          "max": "1.0",
          "histogram": [
           {
            "bin_start": -0.44616585302635803,
            "bin_end": -0.3015492677237222,
            "count": 1
           },
           {
            "bin_start": -0.3015492677237222,
            "bin_end": -0.15693268242108638,
            "count": 0
           },
           {
            "bin_start": -0.15693268242108638,
            "bin_end": -0.012316097118450553,
            "count": 0
           },
           {
            "bin_start": -0.012316097118450553,
            "bin_end": 0.13230048818418527,
            "count": 1
           },
           {
            "bin_start": 0.13230048818418527,
            "bin_end": 0.27691707348682104,
            "count": 0
           },
           {
            "bin_start": 0.27691707348682104,
            "bin_end": 0.4215336587894569,
            "count": 0
           },
           {
            "bin_start": 0.4215336587894569,
            "bin_end": 0.5661502440920928,
            "count": 1
           },
           {
            "bin_start": 0.5661502440920928,
            "bin_end": 0.7107668293947286,
            "count": 0
           },
           {
            "bin_start": 0.7107668293947286,
            "bin_end": 0.8553834146973643,
            "count": 0
           },
           {
            "bin_start": 0.8553834146973643,
            "bin_end": 1,
            "count": 1
           }
          ]
         }
        },
        {
         "name": "Sales/Avg. Store",
         "dtype": "float64",
         "stats": {
          "unique_count": 4,
          "nan_count": 0,
          "min": "-0.44616585302635803",
          "max": "1.0",
          "histogram": [
           {
            "bin_start": -0.44616585302635803,
            "bin_end": -0.3015492677237222,
            "count": 1
           },
           {
            "bin_start": -0.3015492677237222,
            "bin_end": -0.15693268242108638,
            "count": 0
           },
           {
            "bin_start": -0.15693268242108638,
            "bin_end": -0.012316097118450553,
            "count": 1
           },
           {
            "bin_start": -0.012316097118450553,
            "bin_end": 0.13230048818418527,
            "count": 0
           },
           {
            "bin_start": 0.13230048818418527,
            "bin_end": 0.27691707348682104,
            "count": 1
           },
           {
            "bin_start": 0.27691707348682104,
            "bin_end": 0.4215336587894569,
            "count": 0
           },
           {
            "bin_start": 0.4215336587894569,
            "bin_end": 0.5661502440920928,
            "count": 0
           },
           {
            "bin_start": 0.5661502440920928,
            "bin_end": 0.7107668293947286,
            "count": 0
           },
           {
            "bin_start": 0.7107668293947286,
            "bin_end": 0.8553834146973643,
            "count": 0
           },
           {
            "bin_start": 0.8553834146973643,
            "bin_end": 1,
            "count": 1
           }
          ]
         }
        },
        {
         "name": "Store Count Growth",
         "dtype": "float64",
         "stats": {
          "unique_count": 4,
          "nan_count": 0,
          "min": "-0.07831518858577674",
          "max": "1.0",
          "histogram": [
           {
            "bin_start": -0.07831518858577674,
            "bin_end": 0.029516330272800928,
            "count": 2
           },
           {
            "bin_start": 0.029516330272800928,
            "bin_end": 0.1373478491313786,
            "count": 0
           },
           {
            "bin_start": 0.1373478491313786,
            "bin_end": 0.24517936798995627,
            "count": 0
           },
           {
            "bin_start": 0.24517936798995627,
            "bin_end": 0.35301088684853393,
            "count": 0
           },
           {
            "bin_start": 0.35301088684853393,
            "bin_end": 0.4608424057071116,
            "count": 0
           },
           {
            "bin_start": 0.4608424057071116,
            "bin_end": 0.5686739245656893,
            "count": 1
           },
           {
            "bin_start": 0.5686739245656893,
            "bin_end": 0.676505443424267,
            "count": 0
           },
           {
            "bin_start": 0.676505443424267,
            "bin_end": 0.7843369622828447,
            "count": 0
           },
           {
            "bin_start": 0.7843369622828447,
            "bin_end": 0.8921684811414223,
            "count": 0
           },
           {
            "bin_start": 0.8921684811414223,
            "bin_end": 1,
            "count": 1
           }
          ]
         }
        },
        {
         "name": "_deepnote_index_column",
         "dtype": "object"
        }
       ],
       "rows": [
        {
         "Sales": 1,
         "Stores": 0.06330142261164264,
         "Sales/Avg. Store": 0.22084728347216287,
         "Store Count Growth": -0.07831518858577674,
         "_deepnote_index_column": "Sales"
        },
        {
         "Sales": 0.06330142261164264,
         "Stores": 1,
         "Sales/Avg. Store": -0.44616585302635803,
         "Store Count Growth": 0.46513502356571534,
         "_deepnote_index_column": "Stores"
        },
        {
         "Sales": 0.22084728347216287,
         "Stores": -0.44616585302635803,
         "Sales/Avg. Store": 1,
         "Store Count Growth": -0.057068420703069896,
         "_deepnote_index_column": "Sales/Avg. Store"
        },
        {
         "Sales": -0.07831518858577674,
         "Stores": 0.46513502356571534,
         "Sales/Avg. Store": -0.057068420703069896,
         "Store Count Growth": 1,
         "_deepnote_index_column": "Store Count Growth"
        }
       ]
      },
      "text/plain": "                       Sales    Stores  Sales/Avg. Store  Store Count Growth\nSales               1.000000  0.063301          0.220847           -0.078315\nStores              0.063301  1.000000         -0.446166            0.465135\nSales/Avg. Store    0.220847 -0.446166          1.000000           -0.057068\nStore Count Growth -0.078315  0.465135         -0.057068            1.000000",
      "text/html": "<div>\n<style scoped>\n    .dataframe tbody tr th:only-of-type {\n        vertical-align: middle;\n    }\n\n    .dataframe tbody tr th {\n        vertical-align: top;\n    }\n\n    .dataframe thead th {\n        text-align: right;\n    }\n</style>\n<table border=\"1\" class=\"dataframe\">\n  <thead>\n    <tr style=\"text-align: right;\">\n      <th></th>\n      <th>Sales</th>\n      <th>Stores</th>\n      <th>Sales/Avg. Store</th>\n      <th>Store Count Growth</th>\n    </tr>\n  </thead>\n  <tbody>\n    <tr>\n      <th>Sales</th>\n      <td>1.000000</td>\n      <td>0.063301</td>\n      <td>0.220847</td>\n      <td>-0.078315</td>\n    </tr>\n    <tr>\n      <th>Stores</th>\n      <td>0.063301</td>\n      <td>1.000000</td>\n      <td>-0.446166</td>\n      <td>0.465135</td>\n    </tr>\n    <tr>\n      <th>Sales/Avg. Store</th>\n      <td>0.220847</td>\n      <td>-0.446166</td>\n      <td>1.000000</td>\n      <td>-0.057068</td>\n    </tr>\n    <tr>\n      <th>Store Count Growth</th>\n      <td>-0.078315</td>\n      <td>0.465135</td>\n      <td>-0.057068</td>\n      <td>1.000000</td>\n    </tr>\n  </tbody>\n</table>\n</div>"
     },
     "metadata": {}
    }
   ]
  },
  {
   "cell_type": "code",
   "metadata": {
    "cell_id": "72dda234-6fca-477e-a088-99682e9766a2",
    "tags": [],
    "deepnote_to_be_reexecuted": false,
    "source_hash": "20ab22f8",
    "execution_start": 1645626706658,
    "execution_millis": 3,
    "deepnote_cell_type": "code",
    "deepnote_cell_height": 118.1875,
    "deepnote_output_heights": [
     21.1875
    ]
   },
   "source": "df['Sales'].corr(df['Stores'])",
   "execution_count": null,
   "outputs": [
    {
     "output_type": "execute_result",
     "execution_count": 25,
     "data": {
      "text/plain": "0.06330142261164261"
     },
     "metadata": {}
    }
   ]
  },
  {
   "cell_type": "code",
   "metadata": {
    "cell_id": "a44d4547-ed4f-449a-86c6-3590ddc79756",
    "tags": [],
    "deepnote_to_be_reexecuted": false,
    "source_hash": "4d82d5a7",
    "execution_start": 1645626706669,
    "execution_millis": 12,
    "deepnote_cell_type": "code",
    "deepnote_cell_height": 597.875,
    "deepnote_output_heights": [
     500.875
    ]
   },
   "source": "df['Sales']",
   "execution_count": null,
   "outputs": [
    {
     "output_type": "execute_result",
     "execution_count": 26,
     "data": {
      "text/plain": "0     658119\n1     115037\n2      90048\n3      83976\n4      78924\n5      77792\n6      71687\n7      71208\n8      60311\n9      56829\n10     56828\n11     37664\n12     34980\n13     34408\n14     27486\n15     26903\n16     26028\n17     25012\n18     24402\n19     22234\n20     21464\n21     21384\n22     19060\n23     18201\n24     16592\nName: Sales, dtype: int64"
     },
     "metadata": {}
    }
   ]
  },
  {
   "cell_type": "code",
   "metadata": {
    "cell_id": "762307b5-3138-4a6a-86b7-c48bfe3632f5",
    "tags": [],
    "deepnote_to_be_reexecuted": false,
    "source_hash": "ffc2c75d",
    "execution_start": 1645626706736,
    "execution_millis": 3,
    "deepnote_cell_type": "code",
    "deepnote_cell_height": 597.875,
    "deepnote_output_heights": [
     500.875
    ]
   },
   "source": "df['Stores']",
   "execution_count": null,
   "outputs": [
    {
     "output_type": "execute_result",
     "execution_count": 27,
     "data": {
      "text/plain": "0      4574.0\n1      3931.0\n2       495.0\n3      1965.0\n4      8002.0\n5      9813.0\n6         NaN\n7      1772.0\n8      1828.0\n9      2326.0\n10      655.0\n11        NaN\n12     1389.0\n13     1351.0\n14     4553.0\n15      794.0\n16      889.0\n17     2770.0\n18     2021.0\n19    13350.0\n20    14250.0\n21      323.0\n22     1169.0\n23     1280.0\n24      231.0\nName: Stores, dtype: float64"
     },
     "metadata": {}
    }
   ]
  },
  {
   "cell_type": "markdown",
   "source": "Observando los datos se puede determinar que la empresa de mayores ventas no coincide con la que posee mayores tiendas, además para generar un apoyo se realizo el calculo de correlación de ambas columnas las cuales estan lejanas de 1 por lo que se puede determinar que no hay una gran correlación entre las mismas.",
   "metadata": {
    "cell_id": "b2bbcae2-d02d-48e9-aa23-6f7fc0f430ea",
    "tags": [],
    "deepnote_cell_type": "markdown",
    "deepnote_cell_height": 119.5625
   }
  },
  {
   "cell_type": "markdown",
   "source": "### 5. ¿Cuál es el rango que existe entre las ventas?",
   "metadata": {
    "cell_id": "d296130b-b739-4424-8c5d-8dc8b6fc8ee5",
    "tags": [],
    "deepnote_cell_type": "markdown",
    "deepnote_cell_height": 62
   }
  },
  {
   "cell_type": "code",
   "metadata": {
    "cell_id": "277da6f7-0300-4156-91e5-9765eb1f3752",
    "tags": [],
    "deepnote_to_be_reexecuted": false,
    "source_hash": "36e8ec47",
    "execution_start": 1645626706738,
    "execution_millis": 933,
    "deepnote_cell_type": "code",
    "deepnote_cell_height": 413.1875,
    "deepnote_output_heights": [
     21.1875,
     264
    ]
   },
   "source": "sns.barplot(x = 'Sales', y = 'Company', data = df)",
   "execution_count": null,
   "outputs": [
    {
     "output_type": "execute_result",
     "execution_count": 28,
     "data": {
      "text/plain": "<AxesSubplot:xlabel='Sales', ylabel='Company'>"
     },
     "metadata": {}
    },
    {
     "data": {
      "text/plain": "<Figure size 432x288 with 1 Axes>",
      "image/png": "[encoded data removed]"
     },
     "metadata": {
      "needs_background": "light",
      "image/png": {
       "width": 458,
       "height": 262
      }
     },
     "output_type": "display_data"
    }
   ]
  },
  {
   "cell_type": "code",
   "metadata": {
    "cell_id": "11527804-e67a-43ca-97ba-d7362d843247",
    "tags": [],
    "deepnote_to_be_reexecuted": false,
    "source_hash": "ae6ac02",
    "execution_start": 1645626707672,
    "execution_millis": 23,
    "deepnote_cell_type": "code",
    "deepnote_cell_height": 118.1875,
    "deepnote_output_heights": [
     21.1875
    ]
   },
   "source": "df['Sales'].min()",
   "execution_count": null,
   "outputs": [
    {
     "output_type": "execute_result",
     "execution_count": 29,
     "data": {
      "text/plain": "16592"
     },
     "metadata": {}
    }
   ]
  },
  {
   "cell_type": "code",
   "metadata": {
    "cell_id": "bc365ff9-932f-46b0-96dc-7e52cd2959f6",
    "tags": [],
    "deepnote_to_be_reexecuted": false,
    "source_hash": "15967f0b",
    "execution_start": 1645626707754,
    "execution_millis": 3,
    "deepnote_cell_type": "code",
    "deepnote_cell_height": 118.1875,
    "deepnote_output_heights": [
     21.1875
    ]
   },
   "source": "df['Sales'].max()",
   "execution_count": null,
   "outputs": [
    {
     "output_type": "execute_result",
     "execution_count": 30,
     "data": {
      "text/plain": "658119"
     },
     "metadata": {}
    }
   ]
  },
  {
   "cell_type": "markdown",
   "source": "Si tomamos en cuenta Walmart aumenta el rango desde 16592 a 658119",
   "metadata": {
    "cell_id": "e921c487-b5f8-40ed-afd0-0c4635576205",
    "tags": [],
    "deepnote_cell_type": "markdown",
    "deepnote_cell_height": 52.390625
   }
  },
  {
   "cell_type": "code",
   "metadata": {
    "cell_id": "59b7c28d-58ff-4136-8d59-48e4ee7ff7f4",
    "tags": [],
    "deepnote_to_be_reexecuted": false,
    "source_hash": "c74aa0be",
    "execution_start": 1645626707797,
    "execution_millis": 437,
    "deepnote_cell_type": "code",
    "deepnote_cell_height": 118.1875,
    "deepnote_output_heights": [
     21.1875
    ]
   },
   "source": "df_sin_walmart['Sales'].min()",
   "execution_count": null,
   "outputs": [
    {
     "output_type": "execute_result",
     "execution_count": 31,
     "data": {
      "text/plain": "16592"
     },
     "metadata": {}
    }
   ]
  },
  {
   "cell_type": "code",
   "metadata": {
    "cell_id": "67bc6a4a-601f-405f-96e4-8fc4b97ce1fe",
    "tags": [],
    "deepnote_to_be_reexecuted": false,
    "source_hash": "cacf48f2",
    "execution_start": 1645626707798,
    "execution_millis": 438,
    "deepnote_cell_type": "code",
    "deepnote_cell_height": 118.1875,
    "deepnote_output_heights": [
     21.1875
    ]
   },
   "source": "df_sin_walmart['Sales'].max()",
   "execution_count": null,
   "outputs": [
    {
     "output_type": "execute_result",
     "execution_count": 32,
     "data": {
      "text/plain": "115037"
     },
     "metadata": {}
    }
   ]
  },
  {
   "cell_type": "markdown",
   "source": "Si omitimos a la empresa walmart podemos tener un rango desde 16592 hasta 115037",
   "metadata": {
    "cell_id": "4ece7f25-7ad3-43dc-9be2-15f3f93c017e",
    "tags": [],
    "deepnote_cell_type": "markdown",
    "deepnote_cell_height": 52.390625
   }
  },
  {
   "cell_type": "markdown",
   "source": "### 6. ¿Cuáles son las 5 empresas que más tiendas físicas tienen? ¿Cuáles de ellas están dentro de las 5 empresas que más ventas tuvieron?",
   "metadata": {
    "cell_id": "6c36ddc3-51ef-4017-a6f9-06cbb8b970e4",
    "tags": [],
    "deepnote_cell_type": "markdown",
    "deepnote_cell_height": 126
   }
  },
  {
   "cell_type": "code",
   "metadata": {
    "cell_id": "1295319d-09d0-42f0-9de0-ff0e689f400f",
    "tags": [],
    "deepnote_to_be_reexecuted": false,
    "source_hash": "c6c8cf6",
    "execution_start": 1645626707846,
    "execution_millis": 393,
    "deepnote_table_state": {
     "pageSize": 10,
     "pageIndex": 0,
     "filters": [],
     "sortBy": []
    },
    "deepnote_table_loading": false,
    "deepnote_cell_type": "code",
    "deepnote_cell_height": 413
   },
   "source": "df_ordenado_sales = df.sort_values(['Sales'])\ndf_ordenado_sales.tail()",
   "execution_count": null,
   "outputs": [
    {
     "output_type": "execute_result",
     "execution_count": 33,
     "data": {
      "application/vnd.deepnote.dataframe.v3+json": {
       "column_count": 6,
       "row_count": 5,
       "columns": [
        {
         "name": "Company",
         "dtype": "object",
         "stats": {
          "unique_count": 5,
          "nan_count": 0,
          "categories": [
           {
            "name": "Walgreen Boots",
            "count": 1
           },
           {
            "name": "Home Depot",
            "count": 1
           },
           {
            "name": "3 others",
            "count": 3
           }
          ]
         }
        },
        {
         "name": "Sales",
         "dtype": "int64",
         "stats": {
          "unique_count": 5,
          "nan_count": 0,
          "min": "78924",
          "max": "658119",
          "histogram": [
           {
            "bin_start": 78924,
            "bin_end": 136843.5,
            "count": 4
           },
           {
            "bin_start": 136843.5,
            "bin_end": 194763,
            "count": 0
           },
           {
            "bin_start": 194763,
            "bin_end": 252682.5,
            "count": 0
           },
           {
            "bin_start": 252682.5,
            "bin_end": 310602,
            "count": 0
           },
           {
            "bin_start": 310602,
            "bin_end": 368521.5,
            "count": 0
           },
           {
            "bin_start": 368521.5,
            "bin_end": 426441,
            "count": 0
           },
           {
            "bin_start": 426441,
            "bin_end": 484360.5,
            "count": 0
           },
           {
            "bin_start": 484360.5,
            "bin_end": 542280,
            "count": 0
           },
           {
            "bin_start": 542280,
            "bin_end": 600199.5,
            "count": 0
           },
           {
            "bin_start": 600199.5,
            "bin_end": 658119,
            "count": 1
           }
          ]
         }
        },
        {
         "name": "Stores",
         "dtype": "float64",
         "stats": {
          "unique_count": 5,
          "nan_count": 0,
          "min": "495.0",
          "max": "8002.0",
          "histogram": [
           {
            "bin_start": 495,
            "bin_end": 1245.7,
            "count": 1
           },
           {
            "bin_start": 1245.7,
            "bin_end": 1996.4,
            "count": 1
           },
           {
            "bin_start": 1996.4,
            "bin_end": 2747.1000000000004,
            "count": 0
           },
           {
            "bin_start": 2747.1000000000004,
            "bin_end": 3497.8,
            "count": 0
           },
           {
            "bin_start": 3497.8,
            "bin_end": 4248.5,
            "count": 1
           },
           {
            "bin_start": 4248.5,
            "bin_end": 4999.200000000001,
            "count": 1
           },
           {
            "bin_start": 4999.200000000001,
            "bin_end": 5749.900000000001,
            "count": 0
           },
           {
            "bin_start": 5749.900000000001,
            "bin_end": 6500.6,
            "count": 0
           },
           {
            "bin_start": 6500.6,
            "bin_end": 7251.3,
            "count": 0
           },
           {
            "bin_start": 7251.3,
            "bin_end": 8002,
            "count": 1
           }
          ]
         }
        },
        {
         "name": "Sales/Avg. Store",
         "dtype": "float64",
         "stats": {
          "unique_count": 5,
          "nan_count": 0,
          "min": "9.81092672",
          "max": "187.7956204",
          "histogram": [
           {
            "bin_start": 9.81092672,
            "bin_end": 27.609396087999997,
            "count": 1
           },
           {
            "bin_start": 27.609396087999997,
            "bin_end": 45.407865455999996,
            "count": 2
           },
           {
            "bin_start": 45.407865455999996,
            "bin_end": 63.206334823999995,
            "count": 0
           },
           {
            "bin_start": 63.206334823999995,
            "bin_end": 81.004804192,
            "count": 1
           },
           {
            "bin_start": 81.004804192,
            "bin_end": 98.80327356,
            "count": 0
           },
           {
            "bin_start": 98.80327356,
            "bin_end": 116.601742928,
            "count": 0
           },
           {
            "bin_start": 116.601742928,
            "bin_end": 134.400212296,
            "count": 0
           },
           {
            "bin_start": 134.400212296,
            "bin_end": 152.198681664,
            "count": 0
           },
           {
            "bin_start": 152.198681664,
            "bin_end": 169.99715103199998,
            "count": 0
           },
           {
            "bin_start": 169.99715103199998,
            "bin_end": 187.7956204,
            "count": 1
           }
          ]
         }
        },
        {
         "name": "Store Count Growth",
         "dtype": "float64",
         "stats": {
          "unique_count": 5,
          "nan_count": 0,
          "min": "-0.01051069618",
          "max": "0.06681034483",
          "histogram": [
           {
            "bin_start": -0.01051069618,
            "bin_end": -0.0027785920789999983,
            "count": 1
           },
           {
            "bin_start": -0.0027785920789999983,
            "bin_end": 0.004953512022000003,
            "count": 1
           },
           {
            "bin_start": 0.004953512022000003,
            "bin_end": 0.012685616123000005,
            "count": 0
           },
           {
            "bin_start": 0.012685616123000005,
            "bin_end": 0.020417720224000006,
            "count": 1
           },
           {
            "bin_start": 0.020417720224000006,
            "bin_end": 0.028149824325000003,
            "count": 0
           },
           {
            "bin_start": 0.028149824325000003,
            "bin_end": 0.03588192842600001,
            "count": 0
           },
           {
            "bin_start": 0.03588192842600001,
            "bin_end": 0.043614032527,
            "count": 0
           },
           {
            "bin_start": 0.043614032527,
            "bin_end": 0.05134613662800001,
            "count": 0
           },
           {
            "bin_start": 0.05134613662800001,
            "bin_end": 0.059078240729,
            "count": 1
           },
           {
            "bin_start": 0.059078240729,
            "bin_end": 0.06681034483,
            "count": 1
           }
          ]
         }
        },
        {
         "name": "Category",
         "dtype": "object",
         "stats": {
          "unique_count": 5,
          "nan_count": 0,
          "categories": [
           {
            "name": "Drug Stores",
            "count": 1
           },
           {
            "name": "Home Improvement",
            "count": 1
           },
           {
            "name": "3 others",
            "count": 3
           }
          ]
         }
        },
        {
         "name": "_deepnote_index_column",
         "dtype": "int64"
        }
       ],
       "rows": [
        {
         "Company": "Walgreen Boots",
         "Sales": 78924,
         "Stores": 8002,
         "Sales/Avg. Store": 9.81092672,
         "Store Count Growth": -0.01051069618,
         "Category": "Drug Stores",
         "_deepnote_index_column": 4
        },
        {
         "Company": "Home Depot",
         "Sales": 83976,
         "Stores": 1965,
         "Sales/Avg. Store": 42.73587786,
         "Store Count Growth": 0,
         "Category": "Home Improvement",
         "_deepnote_index_column": 3
        },
        {
         "Company": "Costco",
         "Sales": 90048,
         "Stores": 495,
         "Sales/Avg. Store": 187.7956204,
         "Store Count Growth": 0.06681034483,
         "Category": "Warehouse Club",
         "_deepnote_index_column": 2
        },
        {
         "Company": "Kroger",
         "Sales": 115037,
         "Stores": 3931,
         "Sales/Avg. Store": 30.03184963,
         "Store Count Growth": 0.05388739946,
         "Category": "Grocery",
         "_deepnote_index_column": 1
        },
        {
         "Company": "Walmart US",
         "Sales": 658119,
         "Stores": 4574,
         "Sales/Avg. Store": 65.64972497,
         "Store Count Growth": 0.01284322409,
         "Category": "Supercenters",
         "_deepnote_index_column": 0
        }
       ]
      },
      "text/plain": "          Company   Sales  Stores  Sales/Avg. Store  Store Count Growth  \\\n4  Walgreen Boots   78924  8002.0          9.810927           -0.010511   \n3      Home Depot   83976  1965.0         42.735878            0.000000   \n2          Costco   90048   495.0        187.795620            0.066810   \n1          Kroger  115037  3931.0         30.031850            0.053887   \n0      Walmart US  658119  4574.0         65.649725            0.012843   \n\n           Category  \n4       Drug Stores  \n3  Home Improvement  \n2    Warehouse Club  \n1           Grocery  \n0      Supercenters  ",
      "text/html": "<div>\n<style scoped>\n    .dataframe tbody tr th:only-of-type {\n        vertical-align: middle;\n    }\n\n    .dataframe tbody tr th {\n        vertical-align: top;\n    }\n\n    .dataframe thead th {\n        text-align: right;\n    }\n</style>\n<table border=\"1\" class=\"dataframe\">\n  <thead>\n    <tr style=\"text-align: right;\">\n      <th></th>\n      <th>Company</th>\n      <th>Sales</th>\n      <th>Stores</th>\n      <th>Sales/Avg. Store</th>\n      <th>Store Count Growth</th>\n      <th>Category</th>\n    </tr>\n  </thead>\n  <tbody>\n    <tr>\n      <th>4</th>\n      <td>Walgreen Boots</td>\n      <td>78924</td>\n      <td>8002.0</td>\n      <td>9.810927</td>\n      <td>-0.010511</td>\n      <td>Drug Stores</td>\n    </tr>\n    <tr>\n      <th>3</th>\n      <td>Home Depot</td>\n      <td>83976</td>\n      <td>1965.0</td>\n      <td>42.735878</td>\n      <td>0.000000</td>\n      <td>Home Improvement</td>\n    </tr>\n    <tr>\n      <th>2</th>\n      <td>Costco</td>\n      <td>90048</td>\n      <td>495.0</td>\n      <td>187.795620</td>\n      <td>0.066810</td>\n      <td>Warehouse Club</td>\n    </tr>\n    <tr>\n      <th>1</th>\n      <td>Kroger</td>\n      <td>115037</td>\n      <td>3931.0</td>\n      <td>30.031850</td>\n      <td>0.053887</td>\n      <td>Grocery</td>\n    </tr>\n    <tr>\n      <th>0</th>\n      <td>Walmart US</td>\n      <td>658119</td>\n      <td>4574.0</td>\n      <td>65.649725</td>\n      <td>0.012843</td>\n      <td>Supercenters</td>\n    </tr>\n  </tbody>\n</table>\n</div>"
     },
     "metadata": {}
    }
   ]
  },
  {
   "cell_type": "code",
   "metadata": {
    "cell_id": "5550736d-97e6-46e4-8221-300754fd94b5",
    "tags": [],
    "deepnote_to_be_reexecuted": false,
    "source_hash": "c0193183",
    "execution_start": 1645626707933,
    "execution_millis": 307,
    "deepnote_cell_type": "code",
    "deepnote_cell_height": 431
   },
   "source": "df_ordenado_stores = df.replace(np.nan,0)\ndf_ordenado_stores = df_ordenado_stores.sort_values(['Stores'])\ndf_ordenado_stores.tail()",
   "execution_count": null,
   "outputs": [
    {
     "output_type": "execute_result",
     "execution_count": 34,
     "data": {
      "application/vnd.deepnote.dataframe.v3+json": {
       "column_count": 6,
       "row_count": 5,
       "columns": [
        {
         "name": "Company",
         "dtype": "object",
         "stats": {
          "unique_count": 5,
          "nan_count": 0,
          "categories": [
           {
            "name": "Walmart US",
            "count": 1
           },
           {
            "name": "Walgreen Boots",
            "count": 1
           },
           {
            "name": "3 others",
            "count": 3
           }
          ]
         }
        },
        {
         "name": "Sales",
         "dtype": "int64",
         "stats": {
          "unique_count": 5,
          "nan_count": 0,
          "min": "21464",
          "max": "658119",
          "histogram": [
           {
            "bin_start": 21464,
            "bin_end": 85129.5,
            "count": 4
           },
           {
            "bin_start": 85129.5,
            "bin_end": 148795,
            "count": 0
           },
           {
            "bin_start": 148795,
            "bin_end": 212460.5,
            "count": 0
           },
           {
            "bin_start": 212460.5,
            "bin_end": 276126,
            "count": 0
           },
           {
            "bin_start": 276126,
            "bin_end": 339791.5,
            "count": 0
           },
           {
            "bin_start": 339791.5,
            "bin_end": 403457,
            "count": 0
           },
           {
            "bin_start": 403457,
            "bin_end": 467122.5,
            "count": 0
           },
           {
            "bin_start": 467122.5,
            "bin_end": 530788,
            "count": 0
           },
           {
            "bin_start": 530788,
            "bin_end": 594453.5,
            "count": 0
           },
           {
            "bin_start": 594453.5,
            "bin_end": 658119,
            "count": 1
           }
          ]
         }
        },
        {
         "name": "Stores",
         "dtype": "float64",
         "stats": {
          "unique_count": 5,
          "nan_count": 0,
          "min": "4574.0",
          "max": "14250.0",
          "histogram": [
           {
            "bin_start": 4574,
            "bin_end": 5541.6,
            "count": 1
           },
           {
            "bin_start": 5541.6,
            "bin_end": 6509.2,
            "count": 0
           },
           {
            "bin_start": 6509.2,
            "bin_end": 7476.8,
            "count": 0
           },
           {
            "bin_start": 7476.8,
            "bin_end": 8444.4,
            "count": 1
           },
           {
            "bin_start": 8444.4,
            "bin_end": 9412,
            "count": 0
           },
           {
            "bin_start": 9412,
            "bin_end": 10379.6,
            "count": 1
           },
           {
            "bin_start": 10379.6,
            "bin_end": 11347.2,
            "count": 0
           },
           {
            "bin_start": 11347.2,
            "bin_end": 12314.8,
            "count": 0
           },
           {
            "bin_start": 12314.8,
            "bin_end": 13282.4,
            "count": 0
           },
           {
            "bin_start": 13282.4,
            "bin_end": 14250,
            "count": 2
           }
          ]
         }
        },
        {
         "name": "Sales/Avg. Store",
         "dtype": "float64",
         "stats": {
          "unique_count": 5,
          "nan_count": 0,
          "min": "1.56391854",
          "max": "65.64972497",
          "histogram": [
           {
            "bin_start": 1.56391854,
            "bin_end": 7.972499182999998,
            "count": 2
           },
           {
            "bin_start": 7.972499182999998,
            "bin_end": 14.381079825999997,
            "count": 2
           },
           {
            "bin_start": 14.381079825999997,
            "bin_end": 20.789660468999994,
            "count": 0
           },
           {
            "bin_start": 20.789660468999994,
            "bin_end": 27.198241111999995,
            "count": 0
           },
           {
            "bin_start": 27.198241111999995,
            "bin_end": 33.606821755,
            "count": 0
           },
           {
            "bin_start": 33.606821755,
            "bin_end": 40.01540239799999,
            "count": 0
           },
           {
            "bin_start": 40.01540239799999,
            "bin_end": 46.42398304099999,
            "count": 0
           },
           {
            "bin_start": 46.42398304099999,
            "bin_end": 52.83256368399999,
            "count": 0
           },
           {
            "bin_start": 52.83256368399999,
            "bin_end": 59.24114432699999,
            "count": 0
           },
           {
            "bin_start": 59.24114432699999,
            "bin_end": 65.64972497,
            "count": 1
           }
          ]
         }
        },
        {
         "name": "Store Count Growth",
         "dtype": "float64",
         "stats": {
          "unique_count": 5,
          "nan_count": 0,
          "min": "-0.01051069618",
          "max": "0.2556621881",
          "histogram": [
           {
            "bin_start": -0.01051069618,
            "bin_end": 0.016106592248000005,
            "count": 2
           },
           {
            "bin_start": 0.016106592248000005,
            "bin_end": 0.042723880676000005,
            "count": 0
           },
           {
            "bin_start": 0.042723880676000005,
            "bin_end": 0.06934116910400001,
            "count": 0
           },
           {
            "bin_start": 0.06934116910400001,
            "bin_end": 0.09595845753200001,
            "count": 1
           },
           {
            "bin_start": 0.09595845753200001,
            "bin_end": 0.12257574596000001,
            "count": 0
           },
           {
            "bin_start": 0.12257574596000001,
            "bin_end": 0.14919303438800002,
            "count": 1
           },
           {
            "bin_start": 0.14919303438800002,
            "bin_end": 0.175810322816,
            "count": 0
           },
           {
            "bin_start": 0.175810322816,
            "bin_end": 0.20242761124400002,
            "count": 0
           },
           {
            "bin_start": 0.20242761124400002,
            "bin_end": 0.22904489967200004,
            "count": 0
           },
           {
            "bin_start": 0.22904489967200004,
            "bin_end": 0.2556621881,
            "count": 1
           }
          ]
         }
        },
        {
         "name": "Category",
         "dtype": "object",
         "stats": {
          "unique_count": 3,
          "nan_count": 0,
          "categories": [
           {
            "name": "Drug Stores",
            "count": 2
           },
           {
            "name": "Dollar Stores",
            "count": 2
           },
           {
            "name": "Supercenters",
            "count": 1
           }
          ]
         }
        },
        {
         "name": "_deepnote_index_column",
         "dtype": "int64"
        }
       ],
       "rows": [
        {
         "Company": "Walmart US",
         "Sales": 658119,
         "Stores": 4574,
         "Sales/Avg. Store": 65.64972497,
         "Store Count Growth": 0.01284322409,
         "Category": "Supercenters",
         "_deepnote_index_column": 0
        },
        {
         "Company": "Walgreen Boots",
         "Sales": 78924,
         "Stores": 8002,
         "Sales/Avg. Store": 9.81092672,
         "Store Count Growth": -0.01051069618,
         "Category": "Drug Stores",
         "_deepnote_index_column": 4
        },
        {
         "Company": "CVS incl. Target",
         "Sales": 77792,
         "Stores": 9813,
         "Sales/Avg. Store": 8.825958702,
         "Store Count Growth": 0.2556621881,
         "Category": "Drug Stores",
         "_deepnote_index_column": 5
        },
        {
         "Company": "Dollar General",
         "Sales": 22234,
         "Stores": 13350,
         "Sales/Avg. Store": 1.768884999,
         "Store Count Growth": 0.1324115701,
         "Category": "Dollar Stores",
         "_deepnote_index_column": 19
        },
        {
         "Company": "Dollar Tree",
         "Sales": 21464,
         "Stores": 14250,
         "Sales/Avg. Store": 1.56391854,
         "Store Count Growth": 0.07962724449,
         "Category": "Dollar Stores",
         "_deepnote_index_column": 20
        }
       ]
      },
      "text/plain": "             Company   Sales   Stores  Sales/Avg. Store  Store Count Growth  \\\n0         Walmart US  658119   4574.0         65.649725            0.012843   \n4     Walgreen Boots   78924   8002.0          9.810927           -0.010511   \n5   CVS incl. Target   77792   9813.0          8.825959            0.255662   \n19    Dollar General   22234  13350.0          1.768885            0.132412   \n20       Dollar Tree   21464  14250.0          1.563919            0.079627   \n\n         Category  \n0    Supercenters  \n4     Drug Stores  \n5     Drug Stores  \n19  Dollar Stores  \n20  Dollar Stores  ",
      "text/html": "<div>\n<style scoped>\n    .dataframe tbody tr th:only-of-type {\n        vertical-align: middle;\n    }\n\n    .dataframe tbody tr th {\n        vertical-align: top;\n    }\n\n    .dataframe thead th {\n        text-align: right;\n    }\n</style>\n<table border=\"1\" class=\"dataframe\">\n  <thead>\n    <tr style=\"text-align: right;\">\n      <th></th>\n      <th>Company</th>\n      <th>Sales</th>\n      <th>Stores</th>\n      <th>Sales/Avg. Store</th>\n      <th>Store Count Growth</th>\n      <th>Category</th>\n    </tr>\n  </thead>\n  <tbody>\n    <tr>\n      <th>0</th>\n      <td>Walmart US</td>\n      <td>658119</td>\n      <td>4574.0</td>\n      <td>65.649725</td>\n      <td>0.012843</td>\n      <td>Supercenters</td>\n    </tr>\n    <tr>\n      <th>4</th>\n      <td>Walgreen Boots</td>\n      <td>78924</td>\n      <td>8002.0</td>\n      <td>9.810927</td>\n      <td>-0.010511</td>\n      <td>Drug Stores</td>\n    </tr>\n    <tr>\n      <th>5</th>\n      <td>CVS incl. Target</td>\n      <td>77792</td>\n      <td>9813.0</td>\n      <td>8.825959</td>\n      <td>0.255662</td>\n      <td>Drug Stores</td>\n    </tr>\n    <tr>\n      <th>19</th>\n      <td>Dollar General</td>\n      <td>22234</td>\n      <td>13350.0</td>\n      <td>1.768885</td>\n      <td>0.132412</td>\n      <td>Dollar Stores</td>\n    </tr>\n    <tr>\n      <th>20</th>\n      <td>Dollar Tree</td>\n      <td>21464</td>\n      <td>14250.0</td>\n      <td>1.563919</td>\n      <td>0.079627</td>\n      <td>Dollar Stores</td>\n    </tr>\n  </tbody>\n</table>\n</div>"
     },
     "metadata": {}
    }
   ]
  },
  {
   "cell_type": "markdown",
   "source": "Walmart es la empresa que se encuentra como la que mas ventas tienes y ocupa el quinto puesto de la empresa que mas tiendas tiene. Tambien cabe destacar que la empresa Walgreen Boots se encuentra en el quinto puesto de mas ventas y el cuarto puesto de mayor cantidad de tiendas.",
   "metadata": {
    "cell_id": "4cfa107e-98a0-4021-8b65-98f23020ae57",
    "tags": [],
    "deepnote_cell_type": "markdown",
    "deepnote_cell_height": 97.171875
   }
  },
  {
   "cell_type": "markdown",
   "source": "## II. Preguntas opcionales",
   "metadata": {
    "cell_id": "7d1d5db9-ad1d-4081-968b-bea1357e236a",
    "tags": [],
    "deepnote_cell_type": "markdown",
    "deepnote_cell_height": 70
   }
  },
  {
   "cell_type": "markdown",
   "source": "### 7. ¿Qué categoría de compañía generó más ventas?",
   "metadata": {
    "cell_id": "27e5ddcb-8674-4809-844e-8c3442430be1",
    "tags": [],
    "deepnote_cell_type": "markdown",
    "deepnote_cell_height": 62
   }
  },
  {
   "cell_type": "code",
   "metadata": {
    "cell_id": "fcc0ff72-f954-4023-b187-f43c7ecc77ce",
    "tags": [],
    "deepnote_to_be_reexecuted": false,
    "source_hash": "c58e4bd5",
    "execution_start": 1645626708030,
    "execution_millis": 217,
    "deepnote_cell_type": "code",
    "deepnote_cell_height": 600
   },
   "source": "df.groupby('Category')[['Sales']].count()",
   "execution_count": null,
   "outputs": [
    {
     "output_type": "execute_result",
     "execution_count": 35,
     "data": {
      "application/vnd.deepnote.dataframe.v3+json": {
       "column_count": 1,
       "row_count": 11,
       "columns": [
        {
         "name": "Sales",
         "dtype": "int64",
         "stats": {
          "unique_count": 4,
          "nan_count": 0,
          "min": "1",
          "max": "7",
          "histogram": [
           {
            "bin_start": 1,
            "bin_end": 1.6,
            "count": 5
           },
           {
            "bin_start": 1.6,
            "bin_end": 2.2,
            "count": 3
           },
           {
            "bin_start": 2.2,
            "bin_end": 2.8,
            "count": 0
           },
           {
            "bin_start": 2.8,
            "bin_end": 3.4,
            "count": 2
           },
           {
            "bin_start": 3.4,
            "bin_end": 4,
            "count": 0
           },
           {
            "bin_start": 4,
            "bin_end": 4.6,
            "count": 0
           },
           {
            "bin_start": 4.6,
            "bin_end": 5.2,
            "count": 0
           },
           {
            "bin_start": 5.2,
            "bin_end": 5.8,
            "count": 0
           },
           {
            "bin_start": 5.8,
            "bin_end": 6.3999999999999995,
            "count": 0
           },
           {
            "bin_start": 6.3999999999999995,
            "bin_end": 7,
            "count": 1
           }
          ]
         }
        },
        {
         "name": "_deepnote_index_column",
         "dtype": "object"
        }
       ],
       "rows": [
        {
         "Sales": 1,
         "_deepnote_index_column": "Apparel"
        },
        {
         "Sales": 2,
         "_deepnote_index_column": "Department Stores"
        },
        {
         "Sales": 2,
         "_deepnote_index_column": "Dollar Stores"
        },
        {
         "Sales": 3,
         "_deepnote_index_column": "Drug Stores"
        },
        {
         "Sales": 1,
         "_deepnote_index_column": "Electronic/Mail Order"
        },
        {
         "Sales": 1,
         "_deepnote_index_column": "Electronics"
        },
        {
         "Sales": 7,
         "_deepnote_index_column": "Grocery"
        },
        {
         "Sales": 2,
         "_deepnote_index_column": "Home Improvement"
        },
        {
         "Sales": 3,
         "_deepnote_index_column": "Supercenters"
        },
        {
         "Sales": 1,
         "_deepnote_index_column": "Warehouse Club"
        }
       ]
      },
      "text/plain": "                       Sales\nCategory                    \nApparel                    1\nDepartment Stores          2\nDollar Stores              2\nDrug Stores                3\nElectronic/Mail Order      1\nElectronics                1\nGrocery                    7\nHome Improvement           2\nSupercenters               3\nWarehouse Club             1\nWarehouse Clubs            1",
      "text/html": "<div>\n<style scoped>\n    .dataframe tbody tr th:only-of-type {\n        vertical-align: middle;\n    }\n\n    .dataframe tbody tr th {\n        vertical-align: top;\n    }\n\n    .dataframe thead th {\n        text-align: right;\n    }\n</style>\n<table border=\"1\" class=\"dataframe\">\n  <thead>\n    <tr style=\"text-align: right;\">\n      <th></th>\n      <th>Sales</th>\n    </tr>\n    <tr>\n      <th>Category</th>\n      <th></th>\n    </tr>\n  </thead>\n  <tbody>\n    <tr>\n      <th>Apparel</th>\n      <td>1</td>\n    </tr>\n    <tr>\n      <th>Department Stores</th>\n      <td>2</td>\n    </tr>\n    <tr>\n      <th>Dollar Stores</th>\n      <td>2</td>\n    </tr>\n    <tr>\n      <th>Drug Stores</th>\n      <td>3</td>\n    </tr>\n    <tr>\n      <th>Electronic/Mail Order</th>\n      <td>1</td>\n    </tr>\n    <tr>\n      <th>Electronics</th>\n      <td>1</td>\n    </tr>\n    <tr>\n      <th>Grocery</th>\n      <td>7</td>\n    </tr>\n    <tr>\n      <th>Home Improvement</th>\n      <td>2</td>\n    </tr>\n    <tr>\n      <th>Supercenters</th>\n      <td>3</td>\n    </tr>\n    <tr>\n      <th>Warehouse Club</th>\n      <td>1</td>\n    </tr>\n    <tr>\n      <th>Warehouse Clubs</th>\n      <td>1</td>\n    </tr>\n  </tbody>\n</table>\n</div>"
     },
     "metadata": {}
    }
   ]
  },
  {
   "cell_type": "code",
   "metadata": {
    "cell_id": "077a0c41-a656-4180-b701-5fe69e93d860",
    "tags": [],
    "deepnote_to_be_reexecuted": false,
    "source_hash": "8a49d7a6",
    "execution_start": 1645626708103,
    "execution_millis": 144,
    "deepnote_cell_type": "code",
    "deepnote_cell_height": 348.4375,
    "deepnote_output_heights": [
     251.4375
    ]
   },
   "source": "df.groupby('Category')['Sales'].sum()",
   "execution_count": null,
   "outputs": [
    {
     "output_type": "execute_result",
     "execution_count": 36,
     "data": {
      "text/plain": "Category\nApparel                   25012\nDepartment Stores         45088\nDollar Stores             43698\nDrug Stores              184202\nElectronic/Mail Order     71687\nElectronics               34980\nGrocery                  297164\nHome Improvement         144287\nSupercenters             745919\nWarehouse Club            90048\nWarehouse Clubs           56828\nName: Sales, dtype: int64"
     },
     "metadata": {}
    }
   ]
  },
  {
   "cell_type": "markdown",
   "source": "La categoria que más ventas genero es la categoria Supercenters",
   "metadata": {
    "cell_id": "f581188e-ce41-4523-ba3a-30e812129a2e",
    "tags": [],
    "deepnote_cell_type": "markdown",
    "deepnote_cell_height": 52.390625
   }
  },
  {
   "cell_type": "markdown",
   "source": "### 8. ¿Cuál es la compañía que en relación con su cantidad de tiendas físicas genera más ventas?",
   "metadata": {
    "cell_id": "33668883-9f01-485c-bdf9-822cd13ad952",
    "tags": [],
    "deepnote_cell_type": "markdown",
    "deepnote_cell_height": 94
   }
  },
  {
   "cell_type": "code",
   "metadata": {
    "cell_id": "903008ff-c22d-431e-8130-a954a94b16e8",
    "tags": [],
    "deepnote_to_be_reexecuted": false,
    "source_hash": "90e3bf7",
    "execution_start": 1645627057370,
    "execution_millis": 15,
    "deepnote_cell_type": "code",
    "deepnote_cell_height": 600
   },
   "source": "df.sort_values(['Stores','Sales'],ascending=False)",
   "execution_count": null,
   "outputs": [
    {
     "output_type": "execute_result",
     "execution_count": 39,
     "data": {
      "application/vnd.deepnote.dataframe.v3+json": {
       "column_count": 6,
       "row_count": 25,
       "columns": [
        {
         "name": "Company",
         "dtype": "object",
         "stats": {
          "unique_count": 25,
          "nan_count": 0,
          "categories": [
           {
            "name": "Dollar Tree",
            "count": 1
           },
           {
            "name": "Dollar General",
            "count": 1
           },
           {
            "name": "23 others",
            "count": 23
           }
          ]
         }
        },
        {
         "name": "Sales",
         "dtype": "int64",
         "stats": {
          "unique_count": 25,
          "nan_count": 0,
          "min": "16592",
          "max": "658119",
          "histogram": [
           {
            "bin_start": 16592,
            "bin_end": 80744.7,
            "count": 21
           },
           {
            "bin_start": 80744.7,
            "bin_end": 144897.4,
            "count": 3
           },
           {
            "bin_start": 144897.4,
            "bin_end": 209050.09999999998,
            "count": 0
           },
           {
            "bin_start": 209050.09999999998,
            "bin_end": 273202.8,
            "count": 0
           },
           {
            "bin_start": 273202.8,
            "bin_end": 337355.5,
            "count": 0
           },
           {
            "bin_start": 337355.5,
            "bin_end": 401508.19999999995,
            "count": 0
           },
           {
            "bin_start": 401508.19999999995,
            "bin_end": 465660.89999999997,
            "count": 0
           },
           {
            "bin_start": 465660.89999999997,
            "bin_end": 529813.6,
            "count": 0
           },
           {
            "bin_start": 529813.6,
            "bin_end": 593966.2999999999,
            "count": 0
           },
           {
            "bin_start": 593966.2999999999,
            "bin_end": 658119,
            "count": 1
           }
          ]
         }
        },
        {
         "name": "Stores",
         "dtype": "float64",
         "stats": {
          "unique_count": 23,
          "nan_count": 2,
          "min": "231.0",
          "max": "14250.0",
          "histogram": [
           {
            "bin_start": 231,
            "bin_end": 1632.9,
            "count": 10
           },
           {
            "bin_start": 1632.9,
            "bin_end": 3034.8,
            "count": 6
           },
           {
            "bin_start": 3034.8,
            "bin_end": 4436.700000000001,
            "count": 1
           },
           {
            "bin_start": 4436.700000000001,
            "bin_end": 5838.6,
            "count": 2
           },
           {
            "bin_start": 5838.6,
            "bin_end": 7240.5,
            "count": 0
           },
           {
            "bin_start": 7240.5,
            "bin_end": 8642.400000000001,
            "count": 1
           },
           {
            "bin_start": 8642.400000000001,
            "bin_end": 10044.300000000001,
            "count": 1
           },
           {
            "bin_start": 10044.300000000001,
            "bin_end": 11446.2,
            "count": 0
           },
           {
            "bin_start": 11446.2,
            "bin_end": 12848.1,
            "count": 0
           },
           {
            "bin_start": 12848.1,
            "bin_end": 14250,
            "count": 2
           }
          ]
         }
        },
        {
         "name": "Sales/Avg. Store",
         "dtype": "float64",
         "stats": {
          "unique_count": 23,
          "nan_count": 2,
          "min": "1.56391854",
          "max": "187.7956204",
          "histogram": [
           {
            "bin_start": 1.56391854,
            "bin_end": 20.187088726,
            "count": 9
           },
           {
            "bin_start": 20.187088726,
            "bin_end": 38.810258912,
            "count": 7
           },
           {
            "bin_start": 38.810258912,
            "bin_end": 57.433429098000005,
            "count": 2
           },
           {
            "bin_start": 57.433429098000005,
            "bin_end": 76.056599284,
            "count": 3
           },
           {
            "bin_start": 76.056599284,
            "bin_end": 94.67976947,
            "count": 1
           },
           {
            "bin_start": 94.67976947,
            "bin_end": 113.302939656,
            "count": 0
           },
           {
            "bin_start": 113.302939656,
            "bin_end": 131.926109842,
            "count": 0
           },
           {
            "bin_start": 131.926109842,
            "bin_end": 150.549280028,
            "count": 0
           },
           {
            "bin_start": 150.549280028,
            "bin_end": 169.172450214,
            "count": 0
           },
           {
            "bin_start": 169.172450214,
            "bin_end": 187.7956204,
            "count": 1
           }
          ]
         }
        },
        {
         "name": "Store Count Growth",
         "dtype": "float64",
         "stats": {
          "unique_count": 23,
          "nan_count": 2,
          "min": "-0.05951506245",
          "max": "0.2556621881",
          "histogram": [
           {
            "bin_start": -0.05951506245,
            "bin_end": -0.027997337395000002,
            "count": 3
           },
           {
            "bin_start": -0.027997337395000002,
            "bin_end": 0.003520387659999999,
            "count": 4
           },
           {
            "bin_start": 0.003520387659999999,
            "bin_end": 0.035038112715,
            "count": 6
           },
           {
            "bin_start": 0.035038112715,
            "bin_end": 0.06655583777,
            "count": 2
           },
           {
            "bin_start": 0.06655583777,
            "bin_end": 0.098073562825,
            "count": 5
           },
           {
            "bin_start": 0.098073562825,
            "bin_end": 0.12959128788000002,
            "count": 1
           },
           {
            "bin_start": 0.12959128788000002,
            "bin_end": 0.16110901293500002,
            "count": 1
           },
           {
            "bin_start": 0.16110901293500002,
            "bin_end": 0.19262673799000002,
            "count": 0
           },
           {
            "bin_start": 0.19262673799000002,
            "bin_end": 0.22414446304500002,
            "count": 0
           },
           {
            "bin_start": 0.22414446304500002,
            "bin_end": 0.2556621881,
            "count": 1
           }
          ]
         }
        },
        {
         "name": "Category",
         "dtype": "object",
         "stats": {
          "unique_count": 11,
          "nan_count": 1,
          "categories": [
           {
            "name": "Grocery",
            "count": 7
           },
           {
            "name": "10 others",
            "count": 17
           },
           {
            "name": "Missing",
            "count": 1
           }
          ]
         }
        },
        {
         "name": "_deepnote_index_column",
         "dtype": "int64"
        }
       ],
       "rows": [
        {
         "Company": "Dollar Tree",
         "Sales": 21464,
         "Stores": 14250,
         "Sales/Avg. Store": 1.56391854,
         "Store Count Growth": 0.07962724449,
         "Category": "Dollar Stores",
         "_deepnote_index_column": 20
        },
        {
         "Company": "Dollar General",
         "Sales": 22234,
         "Stores": 13350,
         "Sales/Avg. Store": 1.768884999,
         "Store Count Growth": 0.1324115701,
         "Category": "Dollar Stores",
         "_deepnote_index_column": 19
        },
        {
         "Company": "CVS incl. Target",
         "Sales": 77792,
         "Stores": 9813,
         "Sales/Avg. Store": 8.825958702,
         "Store Count Growth": 0.2556621881,
         "Category": "Drug Stores",
         "_deepnote_index_column": 5
        },
        {
         "Company": "Walgreen Boots",
         "Sales": 78924,
         "Stores": 8002,
         "Sales/Avg. Store": 9.81092672,
         "Store Count Growth": -0.01051069618,
         "Category": "Drug Stores",
         "_deepnote_index_column": 4
        },
        {
         "Company": "Walmart US",
         "Sales": 658119,
         "Stores": 4574,
         "Sales/Avg. Store": 65.64972497,
         "Store Count Growth": 0.01284322409,
         "Category": "Supercenters",
         "_deepnote_index_column": 0
        },
        {
         "Company": "Rite Aid",
         "Sales": 27486,
         "Stores": 4553,
         "Sales/Avg. Store": 6.025649457,
         "Store Count Growth": -0.003719912473,
         "Category": "Drug Stores",
         "_deepnote_index_column": 14
        },
        {
         "Company": "Kroger",
         "Sales": 115037,
         "Stores": 3931,
         "Sales/Avg. Store": 30.03184963,
         "Store Count Growth": 0.05388739946,
         "Category": "Grocery",
         "_deepnote_index_column": 1
        },
        {
         "Company": "TJX",
         "Sales": 25012,
         "Stores": 2770,
         "Sales/Avg. Store": 9.369544859,
         "Store Count Growth": 0.07824056053,
         "Category": "Apparel",
         "_deepnote_index_column": 17
        },
        {
         "Company": "Albertsons",
         "Sales": 56829,
         "Stores": 2326,
         "Sales/Avg. Store": 23.87773109,
         "Store Count Growth": -0.04437140509,
         "Category": "Grocery",
         "_deepnote_index_column": 9
        },
        {
         "Company": "Aldi",
         "Sales": 24402,
         "Stores": 2021,
         "Sales/Avg. Store": 12.71599792,
         "Store Count Growth": 0.1122729774,
         "Category": "Grocery",
         "_deepnote_index_column": 18
        }
       ]
      },
      "text/plain": "               Company   Sales   Stores  Sales/Avg. Store  Store Count Growth  \\\n20         Dollar Tree   21464  14250.0          1.563919            0.079627   \n19      Dollar General   22234  13350.0          1.768885            0.132412   \n5     CVS incl. Target   77792   9813.0          8.825959            0.255662   \n4       Walgreen Boots   78924   8002.0          9.810927           -0.010511   \n0           Walmart US  658119   4574.0         65.649725            0.012843   \n14            Rite Aid   27486   4553.0          6.025649           -0.003720   \n1               Kroger  115037   3931.0         30.031850            0.053887   \n17                 TJX   25012   2770.0          9.369545            0.078241   \n9           Albertsons   56829   2326.0         23.877731           -0.044371   \n18                Aldi   24402   2021.0         12.715998            0.112273   \n3           Home Depot   83976   1965.0         42.735878            0.000000   \n8               Lowe's   60311   1828.0         33.311792            0.019520   \n7               Target   71208   1772.0         39.982033           -0.010056   \n12            Best Buy   34980   1389.0         24.685956           -0.038754   \n13              Publix   34408   1351.0         25.997733            0.042438   \n23            Delhaize   18201   1280.0         13.783415           -0.059515   \n22              Kohl's   19060   1169.0         16.353496            0.006024   \n16              Macy's   26028    889.0         30.442105            0.082826   \n15               Ahold   26903    794.0         34.446863            0.033854   \n10          Sam's Club   56828    655.0         87.293395            0.012365   \n2               Costco   90048    495.0        187.795620            0.066810   \n21                 HEB   21384    323.0         66.825000            0.018927   \n24              Meijer   16592    231.0         74.738739            0.084507   \n6               Amazon   71687      NaN               NaN                 NaN   \n11  Apple incl. Online   37664      NaN               NaN                 NaN   \n\n                 Category  \n20          Dollar Stores  \n19          Dollar Stores  \n5             Drug Stores  \n4             Drug Stores  \n0            Supercenters  \n14            Drug Stores  \n1                 Grocery  \n17                Apparel  \n9                 Grocery  \n18                Grocery  \n3        Home Improvement  \n8        Home Improvement  \n7            Supercenters  \n12            Electronics  \n13                Grocery  \n23                Grocery  \n22      Department Stores  \n16      Department Stores  \n15                Grocery  \n10        Warehouse Clubs  \n2          Warehouse Club  \n21                Grocery  \n24           Supercenters  \n6   Electronic/Mail Order  \n11                    NaN  ",
      "text/html": "<div>\n<style scoped>\n    .dataframe tbody tr th:only-of-type {\n        vertical-align: middle;\n    }\n\n    .dataframe tbody tr th {\n        vertical-align: top;\n    }\n\n    .dataframe thead th {\n        text-align: right;\n    }\n</style>\n<table border=\"1\" class=\"dataframe\">\n  <thead>\n    <tr style=\"text-align: right;\">\n      <th></th>\n      <th>Company</th>\n      <th>Sales</th>\n      <th>Stores</th>\n      <th>Sales/Avg. Store</th>\n      <th>Store Count Growth</th>\n      <th>Category</th>\n    </tr>\n  </thead>\n  <tbody>\n    <tr>\n      <th>20</th>\n      <td>Dollar Tree</td>\n      <td>21464</td>\n      <td>14250.0</td>\n      <td>1.563919</td>\n      <td>0.079627</td>\n      <td>Dollar Stores</td>\n    </tr>\n    <tr>\n      <th>19</th>\n      <td>Dollar General</td>\n      <td>22234</td>\n      <td>13350.0</td>\n      <td>1.768885</td>\n      <td>0.132412</td>\n      <td>Dollar Stores</td>\n    </tr>\n    <tr>\n      <th>5</th>\n      <td>CVS incl. Target</td>\n      <td>77792</td>\n      <td>9813.0</td>\n      <td>8.825959</td>\n      <td>0.255662</td>\n      <td>Drug Stores</td>\n    </tr>\n    <tr>\n      <th>4</th>\n      <td>Walgreen Boots</td>\n      <td>78924</td>\n      <td>8002.0</td>\n      <td>9.810927</td>\n      <td>-0.010511</td>\n      <td>Drug Stores</td>\n    </tr>\n    <tr>\n      <th>0</th>\n      <td>Walmart US</td>\n      <td>658119</td>\n      <td>4574.0</td>\n      <td>65.649725</td>\n      <td>0.012843</td>\n      <td>Supercenters</td>\n    </tr>\n    <tr>\n      <th>14</th>\n      <td>Rite Aid</td>\n      <td>27486</td>\n      <td>4553.0</td>\n      <td>6.025649</td>\n      <td>-0.003720</td>\n      <td>Drug Stores</td>\n    </tr>\n    <tr>\n      <th>1</th>\n      <td>Kroger</td>\n      <td>115037</td>\n      <td>3931.0</td>\n      <td>30.031850</td>\n      <td>0.053887</td>\n      <td>Grocery</td>\n    </tr>\n    <tr>\n      <th>17</th>\n      <td>TJX</td>\n      <td>25012</td>\n      <td>2770.0</td>\n      <td>9.369545</td>\n      <td>0.078241</td>\n      <td>Apparel</td>\n    </tr>\n    <tr>\n      <th>9</th>\n      <td>Albertsons</td>\n      <td>56829</td>\n      <td>2326.0</td>\n      <td>23.877731</td>\n      <td>-0.044371</td>\n      <td>Grocery</td>\n    </tr>\n    <tr>\n      <th>18</th>\n      <td>Aldi</td>\n      <td>24402</td>\n      <td>2021.0</td>\n      <td>12.715998</td>\n      <td>0.112273</td>\n      <td>Grocery</td>\n    </tr>\n    <tr>\n      <th>3</th>\n      <td>Home Depot</td>\n      <td>83976</td>\n      <td>1965.0</td>\n      <td>42.735878</td>\n      <td>0.000000</td>\n      <td>Home Improvement</td>\n    </tr>\n    <tr>\n      <th>8</th>\n      <td>Lowe's</td>\n      <td>60311</td>\n      <td>1828.0</td>\n      <td>33.311792</td>\n      <td>0.019520</td>\n      <td>Home Improvement</td>\n    </tr>\n    <tr>\n      <th>7</th>\n      <td>Target</td>\n      <td>71208</td>\n      <td>1772.0</td>\n      <td>39.982033</td>\n      <td>-0.010056</td>\n      <td>Supercenters</td>\n    </tr>\n    <tr>\n      <th>12</th>\n      <td>Best Buy</td>\n      <td>34980</td>\n      <td>1389.0</td>\n      <td>24.685956</td>\n      <td>-0.038754</td>\n      <td>Electronics</td>\n    </tr>\n    <tr>\n      <th>13</th>\n      <td>Publix</td>\n      <td>34408</td>\n      <td>1351.0</td>\n      <td>25.997733</td>\n      <td>0.042438</td>\n      <td>Grocery</td>\n    </tr>\n    <tr>\n      <th>23</th>\n      <td>Delhaize</td>\n      <td>18201</td>\n      <td>1280.0</td>\n      <td>13.783415</td>\n      <td>-0.059515</td>\n      <td>Grocery</td>\n    </tr>\n    <tr>\n      <th>22</th>\n      <td>Kohl's</td>\n      <td>19060</td>\n      <td>1169.0</td>\n      <td>16.353496</td>\n      <td>0.006024</td>\n      <td>Department Stores</td>\n    </tr>\n    <tr>\n      <th>16</th>\n      <td>Macy's</td>\n      <td>26028</td>\n      <td>889.0</td>\n      <td>30.442105</td>\n      <td>0.082826</td>\n      <td>Department Stores</td>\n    </tr>\n    <tr>\n      <th>15</th>\n      <td>Ahold</td>\n      <td>26903</td>\n      <td>794.0</td>\n      <td>34.446863</td>\n      <td>0.033854</td>\n      <td>Grocery</td>\n    </tr>\n    <tr>\n      <th>10</th>\n      <td>Sam's Club</td>\n      <td>56828</td>\n      <td>655.0</td>\n      <td>87.293395</td>\n      <td>0.012365</td>\n      <td>Warehouse Clubs</td>\n    </tr>\n    <tr>\n      <th>2</th>\n      <td>Costco</td>\n      <td>90048</td>\n      <td>495.0</td>\n      <td>187.795620</td>\n      <td>0.066810</td>\n      <td>Warehouse Club</td>\n    </tr>\n    <tr>\n      <th>21</th>\n      <td>HEB</td>\n      <td>21384</td>\n      <td>323.0</td>\n      <td>66.825000</td>\n      <td>0.018927</td>\n      <td>Grocery</td>\n    </tr>\n    <tr>\n      <th>24</th>\n      <td>Meijer</td>\n      <td>16592</td>\n      <td>231.0</td>\n      <td>74.738739</td>\n      <td>0.084507</td>\n      <td>Supercenters</td>\n    </tr>\n    <tr>\n      <th>6</th>\n      <td>Amazon</td>\n      <td>71687</td>\n      <td>NaN</td>\n      <td>NaN</td>\n      <td>NaN</td>\n      <td>Electronic/Mail Order</td>\n    </tr>\n    <tr>\n      <th>11</th>\n      <td>Apple incl. Online</td>\n      <td>37664</td>\n      <td>NaN</td>\n      <td>NaN</td>\n      <td>NaN</td>\n      <td>NaN</td>\n    </tr>\n  </tbody>\n</table>\n</div>"
     },
     "metadata": {}
    }
   ]
  },
  {
   "cell_type": "markdown",
   "source": "La tiendas Dollar Tree es la que posee una mayor relación de tiendas por ventas",
   "metadata": {
    "cell_id": "87624456-531b-4437-84a6-bd41cf79b4c3",
    "tags": [],
    "deepnote_cell_type": "markdown",
    "deepnote_cell_height": 52.390625
   }
  },
  {
   "cell_type": "markdown",
   "source": "### 9. ¿Cuáles compañías venden de forma exclusivamente online? ¿Sus ventas destacan sobre las que también tienen tiendas físicas?",
   "metadata": {
    "cell_id": "e9a00ffe-de8a-41f0-98e7-67b905d0d14f",
    "tags": [],
    "deepnote_cell_type": "markdown",
    "deepnote_cell_height": 126
   }
  },
  {
   "cell_type": "markdown",
   "source": "Para este caso se asumira que los datos Nan de la columna Store representan las tiendas online y de este modo poder llegar a una conclusión con el conjunto de datos dado que no se hace de forma explicita en el mismo",
   "metadata": {
    "cell_id": "56af2aaa-e750-4203-b035-8999910f556d",
    "tags": [],
    "deepnote_cell_type": "markdown",
    "deepnote_cell_height": 97.171875
   }
  },
  {
   "cell_type": "code",
   "metadata": {
    "cell_id": "cb6d5d30-783d-44af-9c84-f31689cb3487",
    "tags": [],
    "deepnote_to_be_reexecuted": false,
    "source_hash": "622efa1c",
    "execution_start": 1645627783761,
    "execution_millis": 366,
    "deepnote_cell_type": "code",
    "deepnote_cell_height": 290
   },
   "source": "nan_rows = df[df.isnull().any(1)]\nnan_rows",
   "execution_count": null,
   "outputs": [
    {
     "output_type": "execute_result",
     "execution_count": 49,
     "data": {
      "application/vnd.deepnote.dataframe.v3+json": {
       "column_count": 6,
       "row_count": 2,
       "columns": [
        {
         "name": "Company",
         "dtype": "object",
         "stats": {
          "unique_count": 2,
          "nan_count": 0,
          "categories": [
           {
            "name": "Amazon",
            "count": 1
           },
           {
            "name": "Apple incl. Online",
            "count": 1
           }
          ]
         }
        },
        {
         "name": "Sales",
         "dtype": "int64",
         "stats": {
          "unique_count": 2,
          "nan_count": 0,
          "min": "37664",
          "max": "71687",
          "histogram": [
           {
            "bin_start": 37664,
            "bin_end": 41066.3,
            "count": 1
           },
           {
            "bin_start": 41066.3,
            "bin_end": 44468.6,
            "count": 0
           },
           {
            "bin_start": 44468.6,
            "bin_end": 47870.9,
            "count": 0
           },
           {
            "bin_start": 47870.9,
            "bin_end": 51273.2,
            "count": 0
           },
           {
            "bin_start": 51273.2,
            "bin_end": 54675.5,
            "count": 0
           },
           {
            "bin_start": 54675.5,
            "bin_end": 58077.8,
            "count": 0
           },
           {
            "bin_start": 58077.8,
            "bin_end": 61480.100000000006,
            "count": 0
           },
           {
            "bin_start": 61480.100000000006,
            "bin_end": 64882.4,
            "count": 0
           },
           {
            "bin_start": 64882.4,
            "bin_end": 68284.7,
            "count": 0
           },
           {
            "bin_start": 68284.7,
            "bin_end": 71687,
            "count": 1
           }
          ]
         }
        },
        {
         "name": "Stores",
         "dtype": "float64",
         "stats": {
          "unique_count": 0,
          "nan_count": 2,
          "min": null,
          "max": null,
          "histogram": [
           {
            "bin_start": 0,
            "bin_end": 0.1,
            "count": 0
           },
           {
            "bin_start": 0.1,
            "bin_end": 0.2,
            "count": 0
           },
           {
            "bin_start": 0.2,
            "bin_end": 0.30000000000000004,
            "count": 0
           },
           {
            "bin_start": 0.30000000000000004,
            "bin_end": 0.4,
            "count": 0
           },
           {
            "bin_start": 0.4,
            "bin_end": 0.5,
            "count": 0
           },
           {
            "bin_start": 0.5,
            "bin_end": 0.6000000000000001,
            "count": 0
           },
           {
            "bin_start": 0.6000000000000001,
            "bin_end": 0.7000000000000001,
            "count": 0
           },
           {
            "bin_start": 0.7000000000000001,
            "bin_end": 0.8,
            "count": 0
           },
           {
            "bin_start": 0.8,
            "bin_end": 0.9,
            "count": 0
           },
           {
            "bin_start": 0.9,
            "bin_end": 1,
            "count": 0
           }
          ]
         }
        },
        {
         "name": "Sales/Avg. Store",
         "dtype": "float64",
         "stats": {
          "unique_count": 0,
          "nan_count": 2,
          "min": null,
          "max": null,
          "histogram": [
           {
            "bin_start": 0,
            "bin_end": 0.1,
            "count": 0
           },
           {
            "bin_start": 0.1,
            "bin_end": 0.2,
            "count": 0
           },
           {
            "bin_start": 0.2,
            "bin_end": 0.30000000000000004,
            "count": 0
           },
           {
            "bin_start": 0.30000000000000004,
            "bin_end": 0.4,
            "count": 0
           },
           {
            "bin_start": 0.4,
            "bin_end": 0.5,
            "count": 0
           },
           {
            "bin_start": 0.5,
            "bin_end": 0.6000000000000001,
            "count": 0
           },
           {
            "bin_start": 0.6000000000000001,
            "bin_end": 0.7000000000000001,
            "count": 0
           },
           {
            "bin_start": 0.7000000000000001,
            "bin_end": 0.8,
            "count": 0
           },
           {
            "bin_start": 0.8,
            "bin_end": 0.9,
            "count": 0
           },
           {
            "bin_start": 0.9,
            "bin_end": 1,
            "count": 0
           }
          ]
         }
        },
        {
         "name": "Store Count Growth",
         "dtype": "float64",
         "stats": {
          "unique_count": 0,
          "nan_count": 2,
          "min": null,
          "max": null,
          "histogram": [
           {
            "bin_start": 0,
            "bin_end": 0.1,
            "count": 0
           },
           {
            "bin_start": 0.1,
            "bin_end": 0.2,
            "count": 0
           },
           {
            "bin_start": 0.2,
            "bin_end": 0.30000000000000004,
            "count": 0
           },
           {
            "bin_start": 0.30000000000000004,
            "bin_end": 0.4,
            "count": 0
           },
           {
            "bin_start": 0.4,
            "bin_end": 0.5,
            "count": 0
           },
           {
            "bin_start": 0.5,
            "bin_end": 0.6000000000000001,
            "count": 0
           },
           {
            "bin_start": 0.6000000000000001,
            "bin_end": 0.7000000000000001,
            "count": 0
           },
           {
            "bin_start": 0.7000000000000001,
            "bin_end": 0.8,
            "count": 0
           },
           {
            "bin_start": 0.8,
            "bin_end": 0.9,
            "count": 0
           },
           {
            "bin_start": 0.9,
            "bin_end": 1,
            "count": 0
           }
          ]
         }
        },
        {
         "name": "Category",
         "dtype": "object",
         "stats": {
          "unique_count": 1,
          "nan_count": 1,
          "categories": [
           {
            "name": "Electronic/Mail Order",
            "count": 1
           },
           {
            "name": "Missing",
            "count": 1
           }
          ]
         }
        },
        {
         "name": "_deepnote_index_column",
         "dtype": "int64"
        }
       ],
       "rows": [
        {
         "Company": "Amazon",
         "Sales": 71687,
         "Stores": "nan",
         "Sales/Avg. Store": "nan",
         "Store Count Growth": "nan",
         "Category": "Electronic/Mail Order",
         "_deepnote_index_column": 6
        },
        {
         "Company": "Apple incl. Online",
         "Sales": 37664,
         "Stores": "nan",
         "Sales/Avg. Store": "nan",
         "Store Count Growth": "nan",
         "Category": "nan",
         "_deepnote_index_column": 11
        }
       ]
      },
      "text/plain": "               Company  Sales  Stores  Sales/Avg. Store  Store Count Growth  \\\n6               Amazon  71687     NaN               NaN                 NaN   \n11  Apple incl. Online  37664     NaN               NaN                 NaN   \n\n                 Category  \n6   Electronic/Mail Order  \n11                    NaN  ",
      "text/html": "<div>\n<style scoped>\n    .dataframe tbody tr th:only-of-type {\n        vertical-align: middle;\n    }\n\n    .dataframe tbody tr th {\n        vertical-align: top;\n    }\n\n    .dataframe thead th {\n        text-align: right;\n    }\n</style>\n<table border=\"1\" class=\"dataframe\">\n  <thead>\n    <tr style=\"text-align: right;\">\n      <th></th>\n      <th>Company</th>\n      <th>Sales</th>\n      <th>Stores</th>\n      <th>Sales/Avg. Store</th>\n      <th>Store Count Growth</th>\n      <th>Category</th>\n    </tr>\n  </thead>\n  <tbody>\n    <tr>\n      <th>6</th>\n      <td>Amazon</td>\n      <td>71687</td>\n      <td>NaN</td>\n      <td>NaN</td>\n      <td>NaN</td>\n      <td>Electronic/Mail Order</td>\n    </tr>\n    <tr>\n      <th>11</th>\n      <td>Apple incl. Online</td>\n      <td>37664</td>\n      <td>NaN</td>\n      <td>NaN</td>\n      <td>NaN</td>\n      <td>NaN</td>\n    </tr>\n  </tbody>\n</table>\n</div>"
     },
     "metadata": {}
    }
   ]
  },
  {
   "cell_type": "code",
   "metadata": {
    "cell_id": "b1848b0d-ec33-4200-be50-cd47c879df61",
    "tags": [],
    "deepnote_to_be_reexecuted": false,
    "source_hash": "9384fcf4",
    "execution_start": 1645629155011,
    "execution_millis": 12,
    "deepnote_cell_type": "code",
    "deepnote_cell_height": 597.875,
    "deepnote_output_heights": [
     500.875
    ]
   },
   "source": "df['Category'] == 'Electronic/Mail Order'",
   "execution_count": null,
   "outputs": [
    {
     "output_type": "execute_result",
     "execution_count": 68,
     "data": {
      "text/plain": "0     False\n1     False\n2     False\n3     False\n4     False\n5     False\n6      True\n7     False\n8     False\n9     False\n10    False\n11    False\n12    False\n13    False\n14    False\n15    False\n16    False\n17    False\n18    False\n19    False\n20    False\n21    False\n22    False\n23    False\n24    False\nName: Category, dtype: bool"
     },
     "metadata": {}
    }
   ]
  },
  {
   "cell_type": "markdown",
   "source": "Podemos verificar que en la busqueda de la columna Stores que posee dato nan se encontraron Amazon y Apple incl. Online, la cual una de las dos encontradas hace referencia explicita el nombre online en el nombre de la compañia y el otro por la referencia en la categoria de Electronic/Mail Order la cuales nos hace referencia a que las ventas se hacen de manera online y por tal motivo destacan sobre las que tienen tiendas físicas.",
   "metadata": {
    "cell_id": "db6d2e04-6413-45e3-a6d1-63181e98db63",
    "tags": [],
    "deepnote_cell_type": "markdown",
    "deepnote_cell_height": 141.953125
   }
  },
  {
   "cell_type": "markdown",
   "source": "## III. Tus propias preguntas",
   "metadata": {
    "cell_id": "58c80612-3fb2-4c71-9aab-813b121430a0",
    "tags": [],
    "deepnote_cell_type": "markdown",
    "deepnote_cell_height": 70
   }
  },
  {
   "cell_type": "markdown",
   "source": "### 10. Cual es la categoria que posee mayor cantidad de compañia",
   "metadata": {
    "cell_id": "fa60966b-7d95-43f0-9a1e-201f1373f1be",
    "tags": [],
    "deepnote_cell_type": "markdown",
    "deepnote_cell_height": 94
   }
  },
  {
   "cell_type": "code",
   "metadata": {
    "cell_id": "52ea290f-004f-4aaa-8e1a-0d0908996b0a",
    "tags": [],
    "deepnote_to_be_reexecuted": false,
    "source_hash": "b03119f5",
    "execution_start": 1645628581130,
    "execution_millis": 14,
    "deepnote_cell_type": "code",
    "deepnote_cell_height": 348.4375,
    "deepnote_output_heights": [
     251.4375
    ]
   },
   "source": "df.groupby('Category').count()",
   "execution_count": null,
   "outputs": [
    {
     "output_type": "execute_result",
     "execution_count": 55,
     "data": {
      "text/plain": "Category\nApparel                  1\nDepartment Stores        2\nDollar Stores            2\nDrug Stores              3\nElectronic/Mail Order    1\nElectronics              1\nGrocery                  7\nHome Improvement         2\nSupercenters             3\nWarehouse Club           1\nWarehouse Clubs          1\nName: Sales, dtype: int64"
     },
     "metadata": {}
    }
   ]
  },
  {
   "cell_type": "markdown",
   "source": "Grocery es la categoriaque posee la mayor cantidad de compañias de nuestro conjunto de datos",
   "metadata": {
    "cell_id": "820cd2db-6b45-42e0-8b54-8609e97e88e0",
    "tags": [],
    "deepnote_cell_type": "markdown",
    "deepnote_cell_height": 52.390625
   }
  },
  {
   "cell_type": "markdown",
   "source": "### 11. Cual es la distribución de Tiendas por categoria",
   "metadata": {
    "cell_id": "83e0e566-969d-4872-b32d-915ac945a370",
    "tags": [],
    "deepnote_cell_type": "markdown",
    "deepnote_cell_height": 62
   }
  },
  {
   "cell_type": "code",
   "metadata": {
    "cell_id": "df4052c4-10d7-44dd-8728-7e3f0bd76a0f",
    "tags": [],
    "deepnote_to_be_reexecuted": false,
    "source_hash": "a2edf93",
    "execution_start": 1645628979495,
    "execution_millis": 846,
    "deepnote_cell_type": "code",
    "deepnote_cell_height": 413.1875,
    "deepnote_output_heights": [
     21.1875,
     264
    ]
   },
   "source": "sns.barplot(x = 'Stores', y = 'Category', data = df)",
   "execution_count": null,
   "outputs": [
    {
     "output_type": "execute_result",
     "execution_count": 67,
     "data": {
      "text/plain": "<AxesSubplot:xlabel='Stores', ylabel='Category'>"
     },
     "metadata": {}
    },
    {
     "data": {
      "text/plain": "<Figure size 432x288 with 1 Axes>",
      "image/png": "[encoded data removed]"
     },
     "metadata": {
      "needs_background": "light",
      "image/png": {
       "width": 474,
       "height": 262
      }
     },
     "output_type": "display_data"
    }
   ]
  },
  {
   "cell_type": "markdown",
   "source": "Podemos observar como esta la distribución de tiendas por categoria en donde predomina Dollar Stores",
   "metadata": {
    "cell_id": "541ba1ff-2d60-475a-81ee-730e25313a3a",
    "tags": [],
    "deepnote_cell_type": "markdown",
    "deepnote_cell_height": 74.78125
   }
  },
  {
   "cell_type": "markdown",
   "source": "### 12. Mostrar la distribución de Ventas por categoria",
   "metadata": {
    "cell_id": "d5a17c31-5e8f-4d67-9679-c5705053de69",
    "tags": [],
    "deepnote_cell_type": "markdown",
    "deepnote_cell_height": 62
   }
  },
  {
   "cell_type": "code",
   "metadata": {
    "cell_id": "b168ad4f-adf7-4f82-9126-461a1fc64b84",
    "tags": [],
    "deepnote_to_be_reexecuted": false,
    "source_hash": "c6ce499c",
    "execution_start": 1645629359160,
    "execution_millis": 473,
    "deepnote_cell_type": "code",
    "deepnote_cell_height": 413.1875,
    "deepnote_output_heights": [
     21.1875,
     264
    ]
   },
   "source": "sns.boxplot(x = 'Sales', y = 'Category', data = df)",
   "execution_count": null,
   "outputs": [
    {
     "output_type": "execute_result",
     "execution_count": 70,
     "data": {
      "text/plain": "<AxesSubplot:xlabel='Sales', ylabel='Category'>"
     },
     "metadata": {}
    },
    {
     "data": {
      "text/plain": "<Figure size 432x288 with 1 Axes>",
      "image/png": "[encoded data removed]"
     },
     "metadata": {
      "needs_background": "light",
      "image/png": {
       "width": 474,
       "height": 262
      }
     },
     "output_type": "display_data"
    }
   ]
  },
  {
   "cell_type": "markdown",
   "source": "Podemos obeservar la distribución por categorias en donde se nota que es predominante la categoria Supercenters",
   "metadata": {
    "cell_id": "fe4c3eb0-e52c-45ef-abed-a52ee92b6049",
    "tags": [],
    "deepnote_cell_type": "markdown",
    "deepnote_cell_height": 74.78125
   }
  },
  {
   "cell_type": "markdown",
   "source": "",
   "metadata": {
    "cell_id": "7351618a-a1b9-4ef1-a6b7-f2dea2b1fb8b",
    "tags": [],
    "deepnote_cell_type": "markdown",
    "deepnote_cell_height": 46
   }
  },
  {
   "cell_type": "code",
   "source": "!ls /datasets/drivecontactgiocrisrai",
   "metadata": {
    "cell_id": "9cf3a4d72bf348f38c09aae9fd42f8b9",
    "tags": [],
    "owner_user_id": "93f2206c-15c7-4d87-b4af-6255c6eb476b",
    "deepnote_cell_type": "code"
   },
   "outputs": [],
   "execution_count": null
  },
  {
   "cell_type": "markdown",
   "source": "<a style='text-decoration:none;line-height:16px;display:flex;color:#5B5B62;padding:10px;justify-content:end;' href='https://deepnote.com?utm_source=created-in-deepnote-cell&projectId=de5ab67e-5d9a-431c-a96d-fddb491f731d' target=\"_blank\">\n<img alt='Created in deepnote.com' style='display:inline;max-height:16px;margin:0px;margin-right:7.5px;' src='data:image/svg+xml;base64,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' > </img>\nCreated in <span style='font-weight:600;margin-left:4px;'>Deepnote</span></a>",
   "metadata": {
    "tags": [],
    "created_in_deepnote_cell": true,
    "deepnote_cell_type": "markdown"
   }
  }
 ],
 "nbformat": 4,
 "nbformat_minor": 2,
 "metadata": {
  "orig_nbformat": 2,
  "deepnote": {
   "is_reactive": false
  },
  "deepnote_notebook_id": "85b76ea9-ace4-4c85-8b21-59120be91703",
  "deepnote_execution_queue": []
 }
}